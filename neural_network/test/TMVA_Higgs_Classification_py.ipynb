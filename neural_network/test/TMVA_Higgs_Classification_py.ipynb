{
 "cells": [
  {
   "cell_type": "markdown",
   "metadata": {},
   "source": [
    "<img src=\"tmva_logo.gif\" height=\"20%\" width=\"20%\">\n",
    "\n",
    "# TMVA Higgs Classification Example in Python\n",
    "\n",
    "In this example we will still do Higgs classification but we will use together with the native TMVA methods also methods from Keras and scikit-learn."
   ]
  },
  {
   "cell_type": "code",
   "execution_count": 1,
   "metadata": {},
   "outputs": [
    {
     "name": "stdout",
     "output_type": "stream",
     "text": [
      "Welcome to JupyROOT 6.22/08\n"
     ]
    }
   ],
   "source": [
    "import ROOT\n",
    "from ROOT import TMVA"
   ]
  },
  {
   "cell_type": "markdown",
   "metadata": {},
   "source": [
    "## Declare Factory\n",
    "\n",
    "Create the Factory class. Later you can choose the methods\n",
    "whose performance you'd like to investigate. \n",
    "\n",
    "The factory is the major TMVA object you have to interact with. Here is the list of parameters you need to pass\n",
    "\n",
    " - The first argument is the base of the name of all the output\n",
    "weightfiles in the directory weight/ that will be created with the \n",
    "method parameters \n",
    "\n",
    " - The second argument is the output file for the training results\n",
    "  \n",
    " - The third argument is a string option defining some general configuration for the TMVA session. For example all TMVA output can be suppressed by removing the \"!\" (not) in front of the \"Silent\" argument in the option string"
   ]
  },
  {
   "cell_type": "code",
   "execution_count": 2,
   "metadata": {},
   "outputs": [],
   "source": [
    "ROOT.TMVA.Tools.Instance()\n",
    "## For PYMVA methods\n",
    "TMVA.PyMethodBase.PyInitialize();\n",
    "\n",
    "\n",
    "outputFile = ROOT.TFile.Open(\"TestClassificationOutput.root\", \"RECREATE\")\n",
    "\n",
    "factory = ROOT.TMVA.Factory(\"Test_TMVA_Classification\", outputFile,\n",
    "                      \"!V:ROC:!Silent:Color:!DrawProgressBar:AnalysisType=Classification\" )"
   ]
  },
  {
   "cell_type": "markdown",
   "metadata": {},
   "source": [
    "## Input Data\n",
    "\n",
    "We define now the input data file and we retrieve the ROOT TTree objects with the signal and background input events"
   ]
  },
  {
   "cell_type": "code",
   "execution_count": 3,
   "metadata": {},
   "outputs": [
    {
     "name": "stdout",
     "output_type": "stream",
     "text": [
      "******************************************************************************\n",
      "*Tree    :ntupleTree: ntupleTree                                             *\n",
      "*Entries :    33027 : Total =        84839065 bytes  File  Size =    8394135 *\n",
      "*        :          : Tree compression factor =  10.13                       *\n",
      "******************************************************************************\n",
      "*Br    0 :hltNames  : vector<string>                                         *\n",
      "*Entries :    33027 : Total  Size=   60024005 bytes  File Size  =    3025026 *\n",
      "*Baskets :     1943 : Basket Size=      32000 bytes  Compression=  19.83     *\n",
      "*............................................................................*\n",
      "*Br    1 :hltResults : vector<bool>                                          *\n",
      "*Entries :    33027 : Total  Size=    2851085 bytes  File Size  =     342595 *\n",
      "*Baskets :       94 : Basket Size=      32000 bytes  Compression=   8.32     *\n",
      "*............................................................................*\n",
      "*Br    2 :hltMatchMu1 : vector<bool>                                         *\n",
      "*Entries :    33027 : Total  Size=    2851183 bytes  File Size  =     294315 *\n",
      "*Baskets :       94 : Basket Size=      32000 bytes  Compression=   9.68     *\n",
      "*............................................................................*\n",
      "*Br    3 :hltMatchMu2 : vector<bool>                                         *\n",
      "*Entries :    33027 : Total  Size=    2851183 bytes  File Size  =     275068 *\n",
      "*Baskets :       94 : Basket Size=      32000 bytes  Compression=  10.36     *\n",
      "*............................................................................*\n",
      "*Br    4 :hltPrescales : vector<int>                                         *\n",
      "*Entries :    33027 : Total  Size=   10010425 bytes  File Size  =     250629 *\n",
      "*Baskets :      318 : Basket Size=      32000 bytes  Compression=  39.91     *\n",
      "*............................................................................*\n",
      "*Br    5 :l1tNames  : vector<string>                                         *\n",
      "*Entries :    33027 : Total  Size=     464770 bytes  File Size  =      82296 *\n",
      "*Baskets :       19 : Basket Size=      32000 bytes  Compression=   5.64     *\n",
      "*............................................................................*\n",
      "*Br    6 :l1tPrescales : vector<int>                                         *\n",
      "*Entries :    33027 : Total  Size=     464862 bytes  File Size  =      82373 *\n",
      "*Baskets :       19 : Basket Size=      32000 bytes  Compression=   5.63     *\n",
      "*............................................................................*\n",
      "*Br    7 :Dimuon_CL : Dimuon_CL/F                                            *\n",
      "*Entries :    33027 : Total  Size=     133019 bytes  File Size  =     118811 *\n",
      "*Baskets :        5 : Basket Size=      32000 bytes  Compression=   1.12     *\n",
      "*............................................................................*\n",
      "*Br    8 :Dimuon_LS : Dimuon_LS/F                                            *\n",
      "*Entries :    33027 : Total  Size=     133019 bytes  File Size  =     121126 *\n",
      "*Baskets :        5 : Basket Size=      32000 bytes  Compression=   1.09     *\n",
      "*............................................................................*\n",
      "*Br    9 :Dimuon_CosAlpha : Dimuon_CosAlpha/F                                *\n",
      "*Entries :    33027 : Total  Size=     133073 bytes  File Size  =     103524 *\n",
      "*Baskets :        5 : Basket Size=      32000 bytes  Compression=   1.28     *\n",
      "*............................................................................*\n",
      "*Br   10 :Dimuon_Mass : Dimuon_Mass/F                                        *\n",
      "*Entries :    33027 : Total  Size=     133037 bytes  File Size  =     105890 *\n",
      "*Baskets :        5 : Basket Size=      32000 bytes  Compression=   1.25     *\n",
      "*............................................................................*\n",
      "*Br   11 :Dimuon_pT : Dimuon_pT/F                                            *\n",
      "*Entries :    33027 : Total  Size=     133019 bytes  File Size  =     117843 *\n",
      "*Baskets :        5 : Basket Size=      32000 bytes  Compression=   1.12     *\n",
      "*............................................................................*\n",
      "*Br   12 :Dimuon_eta : Dimuon_eta/F                                          *\n",
      "*Entries :    33027 : Total  Size=     133028 bytes  File Size  =     122118 *\n",
      "*Baskets :        5 : Basket Size=      32000 bytes  Compression=   1.09     *\n",
      "*............................................................................*\n",
      "*Br   13 :Dimuon_phi : Dimuon_phi/F                                          *\n",
      "*Entries :    33027 : Total  Size=     133028 bytes  File Size  =     122435 *\n",
      "*Baskets :        5 : Basket Size=      32000 bytes  Compression=   1.08     *\n",
      "*............................................................................*\n",
      "*Br   14 :Muon1_pT  : Muon1_pT/F                                             *\n",
      "*Entries :    33027 : Total  Size=     133010 bytes  File Size  =     117970 *\n",
      "*Baskets :        5 : Basket Size=      32000 bytes  Compression=   1.12     *\n",
      "*............................................................................*\n",
      "*Br   15 :Muon1_eta : Muon1_eta/F                                            *\n",
      "*Entries :    33027 : Total  Size=     133019 bytes  File Size  =     121970 *\n",
      "*Baskets :        5 : Basket Size=      32000 bytes  Compression=   1.09     *\n",
      "*............................................................................*\n",
      "*Br   16 :Muon1_phi : Muon1_phi/F                                            *\n",
      "*Entries :    33027 : Total  Size=     133019 bytes  File Size  =     122458 *\n",
      "*Baskets :        5 : Basket Size=      32000 bytes  Compression=   1.08     *\n",
      "*............................................................................*\n",
      "*Br   17 :Muon1_cha : Muon1_cha/F                                            *\n",
      "*Entries :    33027 : Total  Size=     133019 bytes  File Size  =      13946 *\n",
      "*Baskets :        5 : Basket Size=      32000 bytes  Compression=   9.50     *\n",
      "*............................................................................*\n",
      "*Br   18 :Muon2_pT  : Muon2_pT/F                                             *\n",
      "*Entries :    33027 : Total  Size=     133010 bytes  File Size  =     115758 *\n",
      "*Baskets :        5 : Basket Size=      32000 bytes  Compression=   1.14     *\n",
      "*............................................................................*\n",
      "*Br   19 :Muon2_eta : Muon2_eta/F                                            *\n",
      "*Entries :    33027 : Total  Size=     133019 bytes  File Size  =     122065 *\n",
      "*Baskets :        5 : Basket Size=      32000 bytes  Compression=   1.09     *\n",
      "*............................................................................*\n",
      "*Br   20 :Muon2_phi : Muon2_phi/F                                            *\n",
      "*Entries :    33027 : Total  Size=     133019 bytes  File Size  =     122458 *\n",
      "*Baskets :        5 : Basket Size=      32000 bytes  Compression=   1.08     *\n",
      "*............................................................................*\n",
      "*Br   21 :Muon2_cha : Muon2_cha/F                                            *\n",
      "*Entries :    33027 : Total  Size=     133019 bytes  File Size  =      13946 *\n",
      "*Baskets :        5 : Basket Size=      32000 bytes  Compression=   9.50     *\n",
      "*............................................................................*\n",
      "*Br   22 :Bz_CL     : Bz_CL/F                                                *\n",
      "*Entries :    33027 : Total  Size=     132983 bytes  File Size  =     119811 *\n",
      "*Baskets :        5 : Basket Size=      32000 bytes  Compression=   1.11     *\n",
      "*............................................................................*\n",
      "*Br   23 :Bz_LS     : Bz_LS/F                                                *\n",
      "*Entries :    33027 : Total  Size=     132983 bytes  File Size  =     121088 *\n",
      "*Baskets :        5 : Basket Size=      32000 bytes  Compression=   1.09     *\n",
      "*............................................................................*\n",
      "*Br   24 :Bz_CosAlpha : Bz_CosAlpha/F                                        *\n",
      "*Entries :    33027 : Total  Size=     133037 bytes  File Size  =      94034 *\n",
      "*Baskets :        5 : Basket Size=      32000 bytes  Compression=   1.41     *\n",
      "*............................................................................*\n",
      "*Br   25 :Bz_Mass1  : Bz_Mass1/F                                             *\n",
      "*Entries :    33027 : Total  Size=     133010 bytes  File Size  =     107855 *\n",
      "*Baskets :        5 : Basket Size=      32000 bytes  Compression=   1.23     *\n",
      "*............................................................................*\n",
      "*Br   26 :Bz_pT1    : Bz_pT1/F                                               *\n",
      "*Entries :    33027 : Total  Size=     132992 bytes  File Size  =     116677 *\n",
      "*Baskets :        5 : Basket Size=      32000 bytes  Compression=   1.14     *\n",
      "*............................................................................*\n",
      "*Br   27 :Bz_eta1   : Bz_eta1/F                                              *\n",
      "*Entries :    33027 : Total  Size=     133001 bytes  File Size  =     122067 *\n",
      "*Baskets :        5 : Basket Size=      32000 bytes  Compression=   1.09     *\n",
      "*............................................................................*\n",
      "*Br   28 :Bz_phi1   : Bz_phi1/F                                              *\n",
      "*Entries :    33027 : Total  Size=     133001 bytes  File Size  =     122432 *\n",
      "*Baskets :        5 : Basket Size=      32000 bytes  Compression=   1.08     *\n",
      "*............................................................................*\n",
      "*Br   29 :Bz_Mass2  : Bz_Mass2/F                                             *\n",
      "*Entries :    33027 : Total  Size=     133010 bytes  File Size  =     106911 *\n",
      "*Baskets :        5 : Basket Size=      32000 bytes  Compression=   1.24     *\n",
      "*............................................................................*\n",
      "*Br   30 :Bz_pT2    : Bz_pT2/F                                               *\n",
      "*Entries :    33027 : Total  Size=     132992 bytes  File Size  =     116677 *\n",
      "*Baskets :        5 : Basket Size=      32000 bytes  Compression=   1.14     *\n",
      "*............................................................................*\n",
      "*Br   31 :Bz_eta2   : Bz_eta2/F                                              *\n",
      "*Entries :    33027 : Total  Size=     133001 bytes  File Size  =     122067 *\n",
      "*Baskets :        5 : Basket Size=      32000 bytes  Compression=   1.09     *\n",
      "*............................................................................*\n",
      "*Br   32 :Bz_phi2   : Bz_phi2/F                                              *\n",
      "*Entries :    33027 : Total  Size=     133001 bytes  File Size  =     122432 *\n",
      "*Baskets :        5 : Basket Size=      32000 bytes  Compression=   1.08     *\n",
      "*............................................................................*\n",
      "*Br   33 :track1_pT : track1_pT/F                                            *\n",
      "*Entries :    33027 : Total  Size=     133019 bytes  File Size  =      71425 *\n",
      "*Baskets :        5 : Basket Size=      32000 bytes  Compression=   1.86     *\n",
      "*............................................................................*\n",
      "*Br   34 :track1_eta : track1_eta/F                                          *\n",
      "*Entries :    33027 : Total  Size=     133028 bytes  File Size  =     114178 *\n",
      "*Baskets :        5 : Basket Size=      32000 bytes  Compression=   1.16     *\n",
      "*............................................................................*\n",
      "*Br   35 :track1_phi : track1_phi/F                                          *\n",
      "*Entries :    33027 : Total  Size=     133028 bytes  File Size  =     122340 *\n",
      "*Baskets :        5 : Basket Size=      32000 bytes  Compression=   1.08     *\n",
      "*............................................................................*\n",
      "*Br   36 :track1_cha : track1_cha/F                                          *\n",
      "*Entries :    33027 : Total  Size=     133028 bytes  File Size  =      13966 *\n",
      "*Baskets :        5 : Basket Size=      32000 bytes  Compression=   9.49     *\n",
      "*............................................................................*\n",
      "*Br   37 :track1_d0 : track1_d0/F                                            *\n",
      "*Entries :    33027 : Total  Size=     133019 bytes  File Size  =     121793 *\n",
      "*Baskets :        5 : Basket Size=      32000 bytes  Compression=   1.09     *\n",
      "*............................................................................*\n",
      "*Br   38 :track2_pT : track2_pT/F                                            *\n",
      "*Entries :    33027 : Total  Size=     133019 bytes  File Size  =      74824 *\n",
      "*Baskets :        5 : Basket Size=      32000 bytes  Compression=   1.77     *\n",
      "*............................................................................*\n",
      "*Br   39 :track2_eta : track2_eta/F                                          *\n",
      "*Entries :    33027 : Total  Size=     133028 bytes  File Size  =     113879 *\n",
      "*Baskets :        5 : Basket Size=      32000 bytes  Compression=   1.16     *\n",
      "*............................................................................*\n",
      "*Br   40 :track2_phi : track2_phi/F                                          *\n",
      "*Entries :    33027 : Total  Size=     133028 bytes  File Size  =     122267 *\n",
      "*Baskets :        5 : Basket Size=      32000 bytes  Compression=   1.08     *\n",
      "*............................................................................*\n",
      "*Br   41 :track2_cha : track2_cha/F                                          *\n",
      "*Entries :    33027 : Total  Size=     133028 bytes  File Size  =      13966 *\n",
      "*Baskets :        5 : Basket Size=      32000 bytes  Compression=   9.49     *\n",
      "*............................................................................*\n",
      "*Br   42 :track2_d0 : track2_d0/F                                            *\n",
      "*Entries :    33027 : Total  Size=     133019 bytes  File Size  =     121798 *\n",
      "*Baskets :        5 : Basket Size=      32000 bytes  Compression=   1.09     *\n",
      "*............................................................................*\n",
      "*Br   43 :nOffVtx   : nOffVtx/F                                              *\n",
      "*Entries :    33027 : Total  Size=     133001 bytes  File Size  =      42818 *\n",
      "*Baskets :        5 : Basket Size=      32000 bytes  Compression=   3.09     *\n",
      "*............................................................................*\n",
      "*Br   44 :Kstar_Mass : Kstar_Mass/F                                          *\n",
      "*Entries :    33027 : Total  Size=     133028 bytes  File Size  =     113026 *\n",
      "*Baskets :        5 : Basket Size=      32000 bytes  Compression=   1.17     *\n",
      "*............................................................................*\n",
      "*Br   45 :B_Mass    : B_Mass/F                                               *\n",
      "*Entries :    33027 : Total  Size=     132992 bytes  File Size  =      63500 *\n",
      "*Baskets :        5 : Basket Size=      32000 bytes  Compression=   2.09     *\n",
      "*............................................................................*\n",
      "*Br   46 :B_Eta     : B_Eta/F                                                *\n",
      "*Entries :    33027 : Total  Size=     132983 bytes  File Size  =      74939 *\n",
      "*Baskets :        5 : Basket Size=      32000 bytes  Compression=   1.77     *\n",
      "*............................................................................*\n"
     ]
    }
   ],
   "source": [
    "inputData = ROOT.TFile.Open( \"data_ntuple-Copy1.root\" )\n",
    "inputMC = ROOT.TFile.Open( \"MC_ntuple-Copy1.root\" )\n",
    "# mcData.ls()\n",
    "# retrieve input trees\n",
    "signalTree     = inputMC.Get(\"ntupleTree\")\n",
    "backgroundTree = inputData.Get(\"ntupleTree\")\n",
    "\n",
    "signalTree.Print()"
   ]
  },
  {
   "cell_type": "markdown",
   "metadata": {},
   "source": [
    "## Declare DataLoader(s)\n",
    "\n",
    "The next step is to declare the DataLoader class that deals with input data abd variables \n",
    "\n",
    "We add first the signal and background trees in the data loader and then we\n",
    "define the input variables that shall be used for the MVA training\n",
    "note that you may also use variable expressions, which can be parsed by TTree::Draw( \"expression\" )]"
   ]
  },
  {
   "cell_type": "code",
   "execution_count": 4,
   "metadata": {},
   "outputs": [
    {
     "name": "stdout",
     "output_type": "stream",
     "text": [
      "DataSetInfo              : [testDataset] : Added class \"Signal\"\n",
      "                         : Add Tree ntupleTree of type Signal with 33027 events\n",
      "DataSetInfo              : [testDataset] : Added class \"Background\"\n",
      "                         : Add Tree ntupleTree of type Background with 943 events\n"
     ]
    }
   ],
   "source": [
    "loader = ROOT.TMVA.DataLoader(\"testDataset\")\n",
    "\n",
    "### global event weights per tree (see below for setting event-wise weights)\n",
    "signalWeight     = 1.0\n",
    "backgroundWeight = 1.0\n",
    "   \n",
    "### You can add an arbitrary number of signal or background trees\n",
    "loader.AddSignalTree    ( signalTree,     signalWeight     )\n",
    "loader.AddBackgroundTree( backgroundTree, backgroundWeight )\n",
    "\n",
    "## Define input variables \n",
    "loader.AddVariable(\"B_Eta\")\n",
    "# loader.AddVariable(\"Kstar_Mass \")"
   ]
  },
  {
   "cell_type": "markdown",
   "metadata": {},
   "source": [
    "## Setup Dataset(s)\n",
    "\n",
    "Setup the DataLoader by splitting events in training and test samples. \n",
    "Here we use a random split and a fixed number of training and test events.\n"
   ]
  },
  {
   "cell_type": "code",
   "execution_count": 5,
   "metadata": {},
   "outputs": [],
   "source": [
    "## Apply additional cuts on the signal and background samples (can be different)\n",
    "mycuts = ROOT.TCut(\"\")   ## for example: TCut mycuts = \"abs(var1)<0.5 && abs(var2-0.5)<1\";\n",
    "mycutb = ROOT.TCut(\"\")   ## for example: TCut mycutb = \"abs(var1)<0.5\";\n",
    "\n",
    "\n",
    "loader.PrepareTrainingAndTestTree( mycuts, mycutb,\n",
    "                                  \"nTrain_Signal=33027:nTrain_Background=943:SplitMode=Random:\"\n",
    "                                   \"NormMode=NumEvents:!V\" )"
   ]
  },
  {
   "cell_type": "markdown",
   "metadata": {},
   "source": [
    "# Booking Methods\n",
    "\n",
    "Here we book the TMVA methods. We book a Likelihood based a BDT and a standard MLP (shallow NN)"
   ]
  },
  {
   "cell_type": "code",
   "execution_count": 6,
   "metadata": {},
   "outputs": [
    {
     "name": "stdout",
     "output_type": "stream",
     "text": [
      "Factory                  : Booking method: \u001b[1mBDT\u001b[0m\n",
      "                         : \n",
      "                         : Building event vectors for type 2 Signal\n",
      "                         : Dataset[testDataset] :  create input formulas for tree ntupleTree\n",
      "                         : Building event vectors for type 2 Background\n",
      "                         : Dataset[testDataset] :  create input formulas for tree ntupleTree\n",
      "DataSetFactory           : [testDataset] : Number of events in input trees\n",
      "                         : \n",
      "                         : \n",
      "                         : Number of training and testing events\n",
      "                         : ---------------------------------------------------------------------------\n",
      "                         : Signal     -- training events            : 33027\n",
      "                         : Signal     -- testing events             : 0\n",
      "                         : Signal     -- training and testing events: 33027\n",
      "                         : Background -- training events            : 943\n",
      "                         : Background -- testing events             : 0\n",
      "                         : Background -- training and testing events: 943\n",
      "                         : \n",
      "\u001b[31m<ERROR>                         : Dataset testDataset does not have any testing events, guess that will cause problems later..but for now, I continue \u001b[0m\n",
      "DataSetInfo              : Correlation matrix (Signal):\n",
      "                         : ----------------\n",
      "                         :            B_Eta\n",
      "                         :   B_Eta:  +1.000\n",
      "                         : ----------------\n",
      "DataSetInfo              : Correlation matrix (Background):\n",
      "                         : ----------------\n",
      "                         :            B_Eta\n",
      "                         :   B_Eta:  +1.000\n",
      "                         : ----------------\n",
      "DataSetFactory           : [testDataset] :  \n",
      "                         : \n",
      "Factory                  : Booking method: \u001b[1mMLP\u001b[0m\n",
      "                         : \n",
      "MLP                      : [testDataset] : Create Transformation \"N\" with events from all classes.\n",
      "                         : \n",
      "                         : Transformation, Variable selection : \n",
      "                         : Input : variable 'B_Eta' <---> Output : variable 'B_Eta'\n",
      "MLP                      : Building Network. \n",
      "                         : Initializing weights\n"
     ]
    }
   ],
   "source": [
    "## Boosted Decision Trees\n",
    "factory.BookMethod(loader,ROOT.TMVA.Types.kBDT, \"BDT\",\n",
    "                   \"!V:NTrees=200:MinNodeSize=2.5%:MaxDepth=2:BoostType=AdaBoost:AdaBoostBeta=0.5:UseBaggedBoost:\"\n",
    "                   \"BaggedSampleFraction=0.5:SeparationType=GiniIndex:nCuts=20\" )\n",
    "\n",
    "## Multi-Layer Perceptron (Neural Network)\n",
    "factory.BookMethod(loader, ROOT.TMVA.Types.kMLP, \"MLP\",\n",
    "                   \"!H:!V:NeuronType=tanh:VarTransform=N:NCycles=100:HiddenLayers=N+5:TestRate=5:!UseRegulator\" );"
   ]
  },
  {
   "cell_type": "markdown",
   "metadata": {},
   "source": [
    "## Train Methods"
   ]
  },
  {
   "cell_type": "code",
   "execution_count": 7,
   "metadata": {},
   "outputs": [
    {
     "name": "stdout",
     "output_type": "stream",
     "text": [
      "Factory                  : \u001b[1mTrain all methods\u001b[0m\n",
      "Factory                  : [testDataset] : Create Transformation \"I\" with events from all classes.\n",
      "                         : \n",
      "                         : Transformation, Variable selection : \n",
      "                         : Input : variable 'B_Eta' <---> Output : variable 'B_Eta'\n",
      "TFHandler_Factory        : Variable        Mean        RMS   [        Min        Max ]\n",
      "                         : -----------------------------------------------------------\n",
      "                         :    B_Eta:  0.0032568     1.2551   [    -2.4299     2.4944 ]\n",
      "                         : -----------------------------------------------------------\n",
      "                         : Ranking input variables (method unspecific)...\n",
      "IdTransformation         : Ranking result (top variable is best ranked)\n",
      "                         : ------------------------------\n",
      "                         : Rank : Variable  : Separation\n",
      "                         : ------------------------------\n",
      "                         :    1 : B_Eta     : 6.970e-01\n",
      "                         : ------------------------------\n",
      "Factory                  : Train method: BDT for Classification\n",
      "                         : \n",
      "BDT                      : #events: (reweighted) sig: 16985 bkg: 16985\n",
      "                         : #events: (unweighted) sig: 33027 bkg: 943\n",
      "                         : Training 200 Decision Trees ... patience please\n",
      "                         : Elapsed time for training with 33970 events: 0.727 sec         \n",
      "BDT                      : [testDataset] : Evaluation of BDT on training sample (33970 events)\n",
      "                         : Elapsed time for evaluation of 33970 events: 0.0945 sec       \n",
      "                         : Creating xml weight file: \u001b[0;36mtestDataset/weights/Test_TMVA_Classification_BDT.weights.xml\u001b[0m\n",
      "                         : Creating standalone class: \u001b[0;36mtestDataset/weights/Test_TMVA_Classification_BDT.class.C\u001b[0m\n",
      "                         : TestClassificationOutput.root:/testDataset/Method_BDT/BDT\n",
      "Factory                  : Training finished\n",
      "                         : \n",
      "Factory                  : Train method: MLP for Classification\n",
      "                         : \n",
      "TFHandler_MLP            : Variable        Mean        RMS   [        Min        Max ]\n",
      "                         : -----------------------------------------------------------\n",
      "                         :    B_Eta:  -0.011772    0.50976   [    -1.0000     1.0000 ]\n",
      "                         : -----------------------------------------------------------\n",
      "                         : Training Network\n",
      "                         : \n",
      "                         : Elapsed time for training with 33970 events: 4.31 sec         \n",
      "MLP                      : [testDataset] : Evaluation of MLP on training sample (33970 events)\n",
      "                         : Elapsed time for evaluation of 33970 events: 0.0233 sec       \n",
      "                         : Creating xml weight file: \u001b[0;36mtestDataset/weights/Test_TMVA_Classification_MLP.weights.xml\u001b[0m\n",
      "                         : Creating standalone class: \u001b[0;36mtestDataset/weights/Test_TMVA_Classification_MLP.class.C\u001b[0m\n",
      "                         : Write special histos to file: TestClassificationOutput.root:/testDataset/Method_MLP/MLP\n",
      "Factory                  : Training finished\n",
      "                         : \n",
      "                         : Ranking input variables (method specific)...\n",
      "BDT                      : Ranking result (top variable is best ranked)\n",
      "                         : ---------------------------------------\n",
      "                         : Rank : Variable  : Variable Importance\n",
      "                         : ---------------------------------------\n",
      "                         :    1 : B_Eta     : 1.000e+00\n",
      "                         : ---------------------------------------\n",
      "MLP                      : Ranking result (top variable is best ranked)\n",
      "                         : ------------------------------\n",
      "                         : Rank : Variable  : Importance\n",
      "                         : ------------------------------\n",
      "                         :    1 : B_Eta     : 3.468e+00\n",
      "                         : ------------------------------\n",
      "Factory                  : === Destroy and recreate all methods via weight files for testing ===\n",
      "                         : \n",
      "                         : Reading weight file: \u001b[0;36mtestDataset/weights/Test_TMVA_Classification_BDT.weights.xml\u001b[0m\n",
      "                         : Reading weight file: \u001b[0;36mtestDataset/weights/Test_TMVA_Classification_MLP.weights.xml\u001b[0m\n",
      "MLP                      : Building Network. \n",
      "                         : Initializing weights\n"
     ]
    }
   ],
   "source": [
    "factory.TrainAllMethods();"
   ]
  },
  {
   "cell_type": "markdown",
   "metadata": {},
   "source": [
    "## Test  all methods\n",
    "\n",
    "Here we test all methods using the test data set"
   ]
  },
  {
   "cell_type": "code",
   "execution_count": 8,
   "metadata": {},
   "outputs": [
    {
     "name": "stdout",
     "output_type": "stream",
     "text": [
      "Factory                  : \u001b[1mTest all methods\u001b[0m\n",
      "Factory                  : Test method: BDT for Classification performance\n",
      "                         : \n",
      "BDT                      : [testDataset] : Evaluation of BDT on testing sample (0 events)\n",
      "                         : Elapsed time for evaluation of 0 events: 5.96e-06 sec       \n",
      "Factory                  : Test method: MLP for Classification performance\n",
      "                         : \n",
      "MLP                      : [testDataset] : Evaluation of MLP on testing sample (0 events)\n",
      "                         : Elapsed time for evaluation of 0 events: 3.1e-06 sec       \n"
     ]
    }
   ],
   "source": [
    "factory.TestAllMethods();   "
   ]
  },
  {
   "cell_type": "markdown",
   "metadata": {},
   "source": [
    "## Evaluate all methods\n",
    "\n",
    "Here we evaluate all methods and compare their performances, computing efficiencies, ROC curves etc.. using both training and tetsing data sets. Several histograms are produced which can be examined with the TMVAGui or directly using the output file"
   ]
  },
  {
   "cell_type": "code",
   "execution_count": 9,
   "metadata": {},
   "outputs": [
    {
     "ename": "runtime_error",
     "evalue": "void TMVA::Factory::EvaluateAllMethods() =>\n    runtime_error: FATAL error",
     "output_type": "error",
     "traceback": [
      "\u001b[0;31m---------------------------------------------------------------------------\u001b[0m",
      "\u001b[0;31mruntime_error\u001b[0m                             Traceback (most recent call last)",
      "\u001b[0;32m<ipython-input-9-5dda42e8acf4>\u001b[0m in \u001b[0;36m<module>\u001b[0;34m\u001b[0m\n\u001b[0;32m----> 1\u001b[0;31m \u001b[0mfactory\u001b[0m\u001b[0;34m.\u001b[0m\u001b[0mEvaluateAllMethods\u001b[0m\u001b[0;34m(\u001b[0m\u001b[0;34m)\u001b[0m\u001b[0;34m;\u001b[0m\u001b[0;34m\u001b[0m\u001b[0;34m\u001b[0m\u001b[0m\n\u001b[0m",
      "\u001b[0;31mruntime_error\u001b[0m: void TMVA::Factory::EvaluateAllMethods() =>\n    runtime_error: FATAL error"
     ]
    },
    {
     "name": "stdout",
     "output_type": "stream",
     "text": [
      "Factory                  : \u001b[1mEvaluate all methods\u001b[0m\n",
      "Factory                  : Evaluate classifier: BDT\n",
      "                         : \n",
      "BDT                      : [testDataset] : Loop over test events and fill histograms with classifier response...\n",
      "                         : \n",
      "\u001b[37;41;1m<FATAL>                         : Number of entries <= 0 (0 in histogram: MVA_BDT_S)\u001b[0m\n",
      "***> abort program execution\n"
     ]
    },
    {
     "name": "stderr",
     "output_type": "stream",
     "text": [
      "Error in <TMVA::Tools::Mean>: sum of weights <= 0 ?! that's a bit too much of negative event weights :) \n",
      "Error in <TMVA::Tools::Mean>: sum of weights <= 0 ?! that's a bit too much of negative event weights :) \n"
     ]
    }
   ],
   "source": [
    "factory.EvaluateAllMethods();"
   ]
  },
  {
   "cell_type": "markdown",
   "metadata": {},
   "source": [
    "## Plot ROC Curve\n",
    "We enable JavaScript visualisation for the plots"
   ]
  },
  {
   "cell_type": "code",
   "execution_count": null,
   "metadata": {},
   "outputs": [],
   "source": [
    "%jsroot on"
   ]
  },
  {
   "cell_type": "code",
   "execution_count": null,
   "metadata": {},
   "outputs": [],
   "source": [
    "c1 = factory.GetROCCurve(loader);\n",
    "c1.Draw();\n"
   ]
  },
  {
   "cell_type": "markdown",
   "metadata": {},
   "source": [
    "####  Close outputfile to save all output information (evaluation result of methods)"
   ]
  },
  {
   "cell_type": "code",
   "execution_count": null,
   "metadata": {},
   "outputs": [],
   "source": [
    "##outputFile.Close();"
   ]
  },
  {
   "cell_type": "code",
   "execution_count": null,
   "metadata": {},
   "outputs": [],
   "source": []
  }
 ],
 "metadata": {
  "kernelspec": {
   "display_name": "Python 3",
   "language": "python",
   "name": "python3"
  },
  "language_info": {
   "codemirror_mode": {
    "name": "ipython",
    "version": 3
   },
   "file_extension": ".py",
   "mimetype": "text/x-python",
   "name": "python",
   "nbconvert_exporter": "python",
   "pygments_lexer": "ipython3",
   "version": "3.8.5"
  }
 },
 "nbformat": 4,
 "nbformat_minor": 1
}
