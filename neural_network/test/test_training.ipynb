{
 "cells": [
  {
   "cell_type": "code",
   "execution_count": 9,
   "id": "capital-warren",
   "metadata": {},
   "outputs": [
    {
     "name": "stdout",
     "output_type": "stream",
     "text": [
      "TFile**\t\ttrain_signal.root\t\n",
      " TFile*\t\ttrain_signal.root\t\n",
      "  OBJ: TTree\tEvents\tEvents : 0 at: 0x9bddc20\n",
      "  KEY: TTree\tEvents;1\tEvents\n",
      "TFile: name=train_signal.root, title=, option=READ\n",
      "******************************************************************************\n",
      "*Tree    :Events    : Events                                                 *\n",
      "*Entries :    22514 : Total =         2074549 bytes  File  Size =    1159906 *\n",
      "*        :          : Tree compression factor =   1.79                       *\n",
      "******************************************************************************\n",
      "*Br    0 :Muon_pt_1 : vector<float,ROOT::Detail::VecOps:                     *\n",
      "*         | :RAdoptAllocator<float> >                                        *\n",
      "*Entries :    22514 : Total  Size=     521613 bytes  File Size  =     293911 *\n",
      "*Baskets :       20 : Basket Size=      32000 bytes  Compression=   1.77     *\n",
      "*............................................................................*\n",
      "*Br    1 :Muon_pt_2 : vector<float,ROOT::Detail::VecOps:                     *\n",
      "*         | :RAdoptAllocator<float> >                                        *\n",
      "*Entries :    22514 : Total  Size=     521613 bytes  File Size  =     293911 *\n",
      "*Baskets :       20 : Basket Size=      32000 bytes  Compression=   1.77     *\n",
      "*............................................................................*\n",
      "*Br    2 :Electron_pt_1 : vector<float,ROOT::Detail::VecOps:                 *\n",
      "*         | :RAdoptAllocator<float> >                                        *\n",
      "*Entries :    22514 : Total  Size=     515291 bytes  File Size  =     285437 *\n",
      "*Baskets :       19 : Basket Size=      32000 bytes  Compression=   1.80     *\n",
      "*............................................................................*\n",
      "*Br    3 :Electron_pt_2 : vector<float,ROOT::Detail::VecOps:                 *\n",
      "*         | :RAdoptAllocator<float> >                                        *\n",
      "*Entries :    22514 : Total  Size=     515291 bytes  File Size  =     285437 *\n",
      "*Baskets :       19 : Basket Size=      32000 bytes  Compression=   1.80     *\n",
      "*............................................................................*\n"
     ]
    },
    {
     "name": "stderr",
     "output_type": "stream",
     "text": [
      "Warning in <TCanvas::Constructor>: Deleting canvas with same name: c1\n"
     ]
    },
    {
     "data": {
      "image/png": "[encoded data removed]",
      "text/plain": [
       "<IPython.core.display.Image object>"
      ]
     },
     "metadata": {},
     "output_type": "display_data"
    }
   ],
   "source": [
    "import ROOT\n",
    "import numpy as np\n",
    "import pickle\n",
    "# !pip install xgboost \n",
    "# !pip install sklearn \n",
    "\n",
    "f_data = ROOT.TFile.Open(\"train_signal.root\", \"READ\")\n",
    "tree_data = f_data.Get(\"Events\")\n",
    "\n",
    "f_data.ls()\n",
    "f_data.Print()\n",
    "\n",
    "c1 = ROOT.TCanvas(\"c1\", \"Title\", 800, 600)\n",
    "tree_data.Draw(\"Muon_pt_2\")\n",
    "c1.Draw()"
   ]
  },
  {
   "cell_type": "code",
   "execution_count": 3,
   "id": "competent-coast",
   "metadata": {},
   "outputs": [
    {
     "name": "stdout",
     "output_type": "stream",
     "text": [
      ">>> Extract the training and testing events for signal from the SMHiggsToZZTo4L.root dataset.\n",
      ">>> Extract the training and testing events for background from the ZZTo2e2mu.root dataset.\n",
      "At least two electrons and two muons: pass=45352      all=299973     -- eff=15.12 % cumulative eff=15.12 %\n",
      "At least two electrons and two muons: pass=262776     all=1497445    -- eff=17.55 % cumulative eff=17.55 %\n"
     ]
    },
    {
     "name": "stderr",
     "output_type": "stream",
     "text": [
      "Plugin No such file or directory loading sec.protocol libXrdSeckrb5-4.so\n"
     ]
    }
   ],
   "source": [
    "def filter_events(df):\n",
    "    \"\"\"\n",
    "    Reduce initial dataset to only events which shall be used for training\n",
    "    \"\"\"\n",
    "    return df.Filter(\"nElectron>=2 && nMuon>=2\", \"At least two electrons and two muons\")\n",
    " \n",
    "def define_variables(df):\n",
    "    \"\"\"\n",
    "    Define the variables which shall be used for training\n",
    "    \"\"\"\n",
    "    return df.Define(\"Muon_pt_1\", \"Muon_pt[0]\")\\\n",
    "             .Define(\"Muon_pt_2\", \"Muon_pt[1]\")\\\n",
    "             .Define(\"Electron_pt_1\", \"Electron_pt[0]\")\\\n",
    "             .Define(\"Electron_pt_2\", \"Electron_pt[1]\")\n",
    " \n",
    "variables = [\"Muon_pt_1\", \"Muon_pt_2\", \"Electron_pt_1\", \"Electron_pt_2\"]\n",
    " \n",
    "if __name__ == \"__main__\":\n",
    "    for filename, label in [[\"SMHiggsToZZTo4L.root\", \"signal\"], [\"ZZTo2e2mu.root\", \"background\"]]:\n",
    "        print(\">>> Extract the training and testing events for {} from the {} dataset.\".format(\n",
    "            label, filename))\n",
    " \n",
    "        # Load dataset, filter the required events and define the training variables\n",
    "        filepath = \"root://eospublic.cern.ch//eos/root-eos/cms_opendata_2012_nanoaod/\" + filename\n",
    "        df = ROOT.RDataFrame(\"Events\", filepath)\n",
    "        df = filter_events(df)\n",
    "        df = define_variables(df)\n",
    " \n",
    "        # Book cutflow report\n",
    "        report = df.Report()\n",
    " \n",
    "        # Split dataset by event number for training and testing\n",
    "        columns = ROOT.std.vector[\"string\"](variables)\n",
    "        df.Filter(\"event % 2 == 0\", \"Select events with even event number for training\")\\\n",
    "          .Snapshot(\"Events\", \"train_\" + label + \".root\", columns)\n",
    "        df.Filter(\"event % 2 == 1\", \"Select events with odd event number for training\")\\\n",
    "          .Snapshot(\"Events\", \"test_\" + label + \".root\", columns)\n",
    " \n",
    "        # Print cutflow report\n",
    "        report.Print()"
   ]
  },
  {
   "cell_type": "code",
   "execution_count": 4,
   "id": "found-characterization",
   "metadata": {},
   "outputs": [
    {
     "name": "stderr",
     "output_type": "stream",
     "text": [
      "/usr/local/lib/python3.8/dist-packages/xgboost/core.py:430: FutureWarning: Pass `sample_weight` as keyword args.  Passing these as positional arguments will be considered as error in future releases.\n",
      "  warnings.warn(\n"
     ]
    },
    {
     "name": "stdout",
     "output_type": "stream",
     "text": [
      "[10:22:53] WARNING: ../src/learner.cc:1095: Starting in XGBoost 1.3.0, the default evaluation metric used with the objective 'binary:logistic' was changed from 'error' to 'logloss'. Explicitly set eval_metric if you'd like to restore the old behavior.\n"
     ]
    }
   ],
   "source": [
    "def load_data(signal_filename, background_filename):\n",
    "    # Read data from ROOT files\n",
    "    data_sig = ROOT.RDataFrame(\"Events\", signal_filename).AsNumpy()\n",
    "    data_bkg = ROOT.RDataFrame(\"Events\", background_filename).AsNumpy()\n",
    "\n",
    "    # Convert inputs to format readable by machine learning tools\n",
    "    x_sig = np.vstack([data_sig[var] for var in variables]).T\n",
    "    x_bkg = np.vstack([data_bkg[var] for var in variables]).T\n",
    "    x = np.vstack([x_sig, x_bkg])\n",
    "\n",
    "    # Create labels\n",
    "    num_sig = x_sig.shape[0]\n",
    "    num_bkg = x_bkg.shape[0]\n",
    "    y = np.hstack([np.ones(num_sig), np.zeros(num_bkg)])\n",
    "\n",
    "    # Compute weights balancing both classes\n",
    "    num_all = num_sig + num_bkg\n",
    "    w = np.hstack([np.ones(num_sig) * num_all / num_sig, np.ones(num_bkg) * num_all / num_bkg])\n",
    "\n",
    "    return x, y, w\n",
    "\n",
    "if __name__ == \"__main__\":\n",
    "    # Load data\n",
    "    x, y, w = load_data(\"train_signal.root\", \"train_background.root\")\n",
    "\n",
    "    # Fit xgboost model\n",
    "    from xgboost import XGBClassifier\n",
    "    bdt = XGBClassifier(max_depth=3, n_estimators=500, use_label_encoder=False)\n",
    "    bdt.fit(x, y, w)\n",
    "\n",
    "    # Save model in TMVA format\n",
    "    ROOT.TMVA.Experimental.SaveXGBoost(bdt, \"myBDT\", \"tmva101.root\", num_inputs=len(variables))\n"
   ]
  },
  {
   "cell_type": "code",
   "execution_count": 5,
   "id": "exposed-theater",
   "metadata": {},
   "outputs": [
    {
     "data": {
      "image/png": "[encoded data removed]",
      "text/plain": [
       "<IPython.core.display.Image object>"
      ]
     },
     "metadata": {},
     "output_type": "display_data"
    }
   ],
   "source": [
    "# Load data\n",
    "x, y_true, w = load_data(\"test_signal.root\", \"test_background.root\")\n",
    "\n",
    "# Load trained model\n",
    "bdt = ROOT.TMVA.Experimental.RBDT[\"\"](\"myBDT\", \"tmva101.root\")\n",
    "\n",
    "# Make prediction\n",
    "y_pred = bdt.Compute(x)\n",
    "\n",
    "# Compute ROC using sklearn\n",
    "from sklearn.metrics import roc_curve, auc\n",
    "fpr, tpr, _ = roc_curve(y_true, y_pred, sample_weight=w)\n",
    "score = auc(fpr, tpr)\n",
    "\n",
    "# Plot ROC\n",
    "c = ROOT.TCanvas(\"roc\", \"\", 600, 600)\n",
    "g = ROOT.TGraph(len(fpr), fpr, tpr)\n",
    "g.SetTitle(\"AUC = {:.2f}\".format(score))\n",
    "g.SetLineWidth(3)\n",
    "g.SetLineColor(ROOT.kRed)\n",
    "g.Draw(\"AC\")\n",
    "g.GetXaxis().SetRangeUser(0, 1)\n",
    "g.GetYaxis().SetRangeUser(0, 1)\n",
    "g.GetXaxis().SetTitle(\"False-positive rate\")\n",
    "g.GetYaxis().SetTitle(\"True-positive rate\")\n",
    "c.Draw()"
   ]
  },
  {
   "cell_type": "code",
   "execution_count": null,
   "id": "medieval-junior",
   "metadata": {},
   "outputs": [],
   "source": []
  }
 ],
 "metadata": {
  "kernelspec": {
   "display_name": "Python 3",
   "language": "python",
   "name": "python3"
  },
  "language_info": {
   "codemirror_mode": {
    "name": "ipython",
    "version": 3
   },
   "file_extension": ".py",
   "mimetype": "text/x-python",
   "name": "python",
   "nbconvert_exporter": "python",
   "pygments_lexer": "ipython3",
   "version": "3.8.5"
  }
 },
 "nbformat": 4,
 "nbformat_minor": 5
}
