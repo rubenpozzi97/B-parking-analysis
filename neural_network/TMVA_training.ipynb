{
 "cells": [
  {
   "cell_type": "code",
   "execution_count": 1,
   "id": "compact-ghost",
   "metadata": {
    "scrolled": true
   },
   "outputs": [
    {
     "name": "stdout",
     "output_type": "stream",
     "text": [
      "Welcome to JupyROOT 6.22/08\n"
     ]
    }
   ],
   "source": [
    "import ROOT\n",
    "from ROOT import TMVA"
   ]
  },
  {
   "cell_type": "markdown",
   "id": "grave-headset",
   "metadata": {},
   "source": [
    "## Declare factory "
   ]
  },
  {
   "cell_type": "code",
   "execution_count": 2,
   "id": "technological-future",
   "metadata": {},
   "outputs": [],
   "source": [
    "ROOT.TMVA.Tools.Instance()\n",
    "## For PYMVA methods\n",
    "TMVA.PyMethodBase.PyInitialize();\n",
    "\n",
    "\n",
    "outputFile = ROOT.TFile.Open(\"ClassificationOutput.root\", \"RECREATE\")\n",
    "\n",
    "factory = ROOT.TMVA.Factory(\"TMVA_Classification\", outputFile,\n",
    "                      \"!V:ROC:!Silent:Color:!DrawProgressBar:AnalysisType=Classification\" )"
   ]
  },
  {
   "cell_type": "markdown",
   "id": "placed-ordering",
   "metadata": {},
   "source": [
    "## Input data"
   ]
  },
  {
   "cell_type": "code",
   "execution_count": 3,
   "id": "canadian-appendix",
   "metadata": {},
   "outputs": [
    {
     "name": "stdout",
     "output_type": "stream",
     "text": [
      "******************************************************************************\n",
      "*Tree    :ntupleTree: ntupleTree                                             *\n",
      "*Entries :    33027 : Total =        84839065 bytes  File  Size =    8394135 *\n",
      "*        :          : Tree compression factor =  10.13                       *\n",
      "******************************************************************************\n",
      "*Br    0 :hltNames  : vector<string>                                         *\n",
      "*Entries :    33027 : Total  Size=   60024005 bytes  File Size  =    3025026 *\n",
      "*Baskets :     1943 : Basket Size=      32000 bytes  Compression=  19.83     *\n",
      "*............................................................................*\n",
      "*Br    1 :hltResults : vector<bool>                                          *\n",
      "*Entries :    33027 : Total  Size=    2851085 bytes  File Size  =     342595 *\n",
      "*Baskets :       94 : Basket Size=      32000 bytes  Compression=   8.32     *\n",
      "*............................................................................*\n",
      "*Br    2 :hltMatchMu1 : vector<bool>                                         *\n",
      "*Entries :    33027 : Total  Size=    2851183 bytes  File Size  =     294315 *\n",
      "*Baskets :       94 : Basket Size=      32000 bytes  Compression=   9.68     *\n",
      "*............................................................................*\n",
      "*Br    3 :hltMatchMu2 : vector<bool>                                         *\n",
      "*Entries :    33027 : Total  Size=    2851183 bytes  File Size  =     275068 *\n",
      "*Baskets :       94 : Basket Size=      32000 bytes  Compression=  10.36     *\n",
      "*............................................................................*\n",
      "*Br    4 :hltPrescales : vector<int>                                         *\n",
      "*Entries :    33027 : Total  Size=   10010425 bytes  File Size  =     250629 *\n",
      "*Baskets :      318 : Basket Size=      32000 bytes  Compression=  39.91     *\n",
      "*............................................................................*\n",
      "*Br    5 :l1tNames  : vector<string>                                         *\n",
      "*Entries :    33027 : Total  Size=     464770 bytes  File Size  =      82296 *\n",
      "*Baskets :       19 : Basket Size=      32000 bytes  Compression=   5.64     *\n",
      "*............................................................................*\n",
      "*Br    6 :l1tPrescales : vector<int>                                         *\n",
      "*Entries :    33027 : Total  Size=     464862 bytes  File Size  =      82373 *\n",
      "*Baskets :       19 : Basket Size=      32000 bytes  Compression=   5.63     *\n",
      "*............................................................................*\n",
      "*Br    7 :Dimuon_CL : Dimuon_CL/F                                            *\n",
      "*Entries :    33027 : Total  Size=     133019 bytes  File Size  =     118811 *\n",
      "*Baskets :        5 : Basket Size=      32000 bytes  Compression=   1.12     *\n",
      "*............................................................................*\n",
      "*Br    8 :Dimuon_LS : Dimuon_LS/F                                            *\n",
      "*Entries :    33027 : Total  Size=     133019 bytes  File Size  =     121126 *\n",
      "*Baskets :        5 : Basket Size=      32000 bytes  Compression=   1.09     *\n",
      "*............................................................................*\n",
      "*Br    9 :Dimuon_CosAlpha : Dimuon_CosAlpha/F                                *\n",
      "*Entries :    33027 : Total  Size=     133073 bytes  File Size  =     103524 *\n",
      "*Baskets :        5 : Basket Size=      32000 bytes  Compression=   1.28     *\n",
      "*............................................................................*\n",
      "*Br   10 :Dimuon_Mass : Dimuon_Mass/F                                        *\n",
      "*Entries :    33027 : Total  Size=     133037 bytes  File Size  =     105890 *\n",
      "*Baskets :        5 : Basket Size=      32000 bytes  Compression=   1.25     *\n",
      "*............................................................................*\n",
      "*Br   11 :Dimuon_pT : Dimuon_pT/F                                            *\n",
      "*Entries :    33027 : Total  Size=     133019 bytes  File Size  =     117843 *\n",
      "*Baskets :        5 : Basket Size=      32000 bytes  Compression=   1.12     *\n",
      "*............................................................................*\n",
      "*Br   12 :Dimuon_eta : Dimuon_eta/F                                          *\n",
      "*Entries :    33027 : Total  Size=     133028 bytes  File Size  =     122118 *\n",
      "*Baskets :        5 : Basket Size=      32000 bytes  Compression=   1.09     *\n",
      "*............................................................................*\n",
      "*Br   13 :Dimuon_phi : Dimuon_phi/F                                          *\n",
      "*Entries :    33027 : Total  Size=     133028 bytes  File Size  =     122435 *\n",
      "*Baskets :        5 : Basket Size=      32000 bytes  Compression=   1.08     *\n",
      "*............................................................................*\n",
      "*Br   14 :Muon1_pT  : Muon1_pT/F                                             *\n",
      "*Entries :    33027 : Total  Size=     133010 bytes  File Size  =     117970 *\n",
      "*Baskets :        5 : Basket Size=      32000 bytes  Compression=   1.12     *\n",
      "*............................................................................*\n",
      "*Br   15 :Muon1_eta : Muon1_eta/F                                            *\n",
      "*Entries :    33027 : Total  Size=     133019 bytes  File Size  =     121970 *\n",
      "*Baskets :        5 : Basket Size=      32000 bytes  Compression=   1.09     *\n",
      "*............................................................................*\n",
      "*Br   16 :Muon1_phi : Muon1_phi/F                                            *\n",
      "*Entries :    33027 : Total  Size=     133019 bytes  File Size  =     122458 *\n",
      "*Baskets :        5 : Basket Size=      32000 bytes  Compression=   1.08     *\n",
      "*............................................................................*\n",
      "*Br   17 :Muon1_cha : Muon1_cha/F                                            *\n",
      "*Entries :    33027 : Total  Size=     133019 bytes  File Size  =      13946 *\n",
      "*Baskets :        5 : Basket Size=      32000 bytes  Compression=   9.50     *\n",
      "*............................................................................*\n",
      "*Br   18 :Muon2_pT  : Muon2_pT/F                                             *\n",
      "*Entries :    33027 : Total  Size=     133010 bytes  File Size  =     115758 *\n",
      "*Baskets :        5 : Basket Size=      32000 bytes  Compression=   1.14     *\n",
      "*............................................................................*\n",
      "*Br   19 :Muon2_eta : Muon2_eta/F                                            *\n",
      "*Entries :    33027 : Total  Size=     133019 bytes  File Size  =     122065 *\n",
      "*Baskets :        5 : Basket Size=      32000 bytes  Compression=   1.09     *\n",
      "*............................................................................*\n",
      "*Br   20 :Muon2_phi : Muon2_phi/F                                            *\n",
      "*Entries :    33027 : Total  Size=     133019 bytes  File Size  =     122458 *\n",
      "*Baskets :        5 : Basket Size=      32000 bytes  Compression=   1.08     *\n",
      "*............................................................................*\n",
      "*Br   21 :Muon2_cha : Muon2_cha/F                                            *\n",
      "*Entries :    33027 : Total  Size=     133019 bytes  File Size  =      13946 *\n",
      "*Baskets :        5 : Basket Size=      32000 bytes  Compression=   9.50     *\n",
      "*............................................................................*\n",
      "*Br   22 :Bz_CL     : Bz_CL/F                                                *\n",
      "*Entries :    33027 : Total  Size=     132983 bytes  File Size  =     119811 *\n",
      "*Baskets :        5 : Basket Size=      32000 bytes  Compression=   1.11     *\n",
      "*............................................................................*\n",
      "*Br   23 :Bz_LS     : Bz_LS/F                                                *\n",
      "*Entries :    33027 : Total  Size=     132983 bytes  File Size  =     121088 *\n",
      "*Baskets :        5 : Basket Size=      32000 bytes  Compression=   1.09     *\n",
      "*............................................................................*\n",
      "*Br   24 :Bz_CosAlpha : Bz_CosAlpha/F                                        *\n",
      "*Entries :    33027 : Total  Size=     133037 bytes  File Size  =      94034 *\n",
      "*Baskets :        5 : Basket Size=      32000 bytes  Compression=   1.41     *\n",
      "*............................................................................*\n",
      "*Br   25 :Bz_Mass1  : Bz_Mass1/F                                             *\n",
      "*Entries :    33027 : Total  Size=     133010 bytes  File Size  =     107855 *\n",
      "*Baskets :        5 : Basket Size=      32000 bytes  Compression=   1.23     *\n",
      "*............................................................................*\n",
      "*Br   26 :Bz_pT1    : Bz_pT1/F                                               *\n",
      "*Entries :    33027 : Total  Size=     132992 bytes  File Size  =     116677 *\n",
      "*Baskets :        5 : Basket Size=      32000 bytes  Compression=   1.14     *\n",
      "*............................................................................*\n",
      "*Br   27 :Bz_eta1   : Bz_eta1/F                                              *\n",
      "*Entries :    33027 : Total  Size=     133001 bytes  File Size  =     122067 *\n",
      "*Baskets :        5 : Basket Size=      32000 bytes  Compression=   1.09     *\n",
      "*............................................................................*\n",
      "*Br   28 :Bz_phi1   : Bz_phi1/F                                              *\n",
      "*Entries :    33027 : Total  Size=     133001 bytes  File Size  =     122432 *\n",
      "*Baskets :        5 : Basket Size=      32000 bytes  Compression=   1.08     *\n",
      "*............................................................................*\n",
      "*Br   29 :Bz_Mass2  : Bz_Mass2/F                                             *\n",
      "*Entries :    33027 : Total  Size=     133010 bytes  File Size  =     106911 *\n",
      "*Baskets :        5 : Basket Size=      32000 bytes  Compression=   1.24     *\n",
      "*............................................................................*\n",
      "*Br   30 :Bz_pT2    : Bz_pT2/F                                               *\n",
      "*Entries :    33027 : Total  Size=     132992 bytes  File Size  =     116677 *\n",
      "*Baskets :        5 : Basket Size=      32000 bytes  Compression=   1.14     *\n",
      "*............................................................................*\n",
      "*Br   31 :Bz_eta2   : Bz_eta2/F                                              *\n",
      "*Entries :    33027 : Total  Size=     133001 bytes  File Size  =     122067 *\n",
      "*Baskets :        5 : Basket Size=      32000 bytes  Compression=   1.09     *\n",
      "*............................................................................*\n",
      "*Br   32 :Bz_phi2   : Bz_phi2/F                                              *\n",
      "*Entries :    33027 : Total  Size=     133001 bytes  File Size  =     122432 *\n",
      "*Baskets :        5 : Basket Size=      32000 bytes  Compression=   1.08     *\n",
      "*............................................................................*\n",
      "*Br   33 :track1_pT : track1_pT/F                                            *\n",
      "*Entries :    33027 : Total  Size=     133019 bytes  File Size  =      71425 *\n",
      "*Baskets :        5 : Basket Size=      32000 bytes  Compression=   1.86     *\n",
      "*............................................................................*\n",
      "*Br   34 :track1_eta : track1_eta/F                                          *\n",
      "*Entries :    33027 : Total  Size=     133028 bytes  File Size  =     114178 *\n",
      "*Baskets :        5 : Basket Size=      32000 bytes  Compression=   1.16     *\n",
      "*............................................................................*\n",
      "*Br   35 :track1_phi : track1_phi/F                                          *\n",
      "*Entries :    33027 : Total  Size=     133028 bytes  File Size  =     122340 *\n",
      "*Baskets :        5 : Basket Size=      32000 bytes  Compression=   1.08     *\n",
      "*............................................................................*\n",
      "*Br   36 :track1_cha : track1_cha/F                                          *\n",
      "*Entries :    33027 : Total  Size=     133028 bytes  File Size  =      13966 *\n",
      "*Baskets :        5 : Basket Size=      32000 bytes  Compression=   9.49     *\n",
      "*............................................................................*\n",
      "*Br   37 :track1_d0 : track1_d0/F                                            *\n",
      "*Entries :    33027 : Total  Size=     133019 bytes  File Size  =     121793 *\n",
      "*Baskets :        5 : Basket Size=      32000 bytes  Compression=   1.09     *\n",
      "*............................................................................*\n",
      "*Br   38 :track2_pT : track2_pT/F                                            *\n",
      "*Entries :    33027 : Total  Size=     133019 bytes  File Size  =      74824 *\n",
      "*Baskets :        5 : Basket Size=      32000 bytes  Compression=   1.77     *\n",
      "*............................................................................*\n",
      "*Br   39 :track2_eta : track2_eta/F                                          *\n",
      "*Entries :    33027 : Total  Size=     133028 bytes  File Size  =     113879 *\n",
      "*Baskets :        5 : Basket Size=      32000 bytes  Compression=   1.16     *\n",
      "*............................................................................*\n",
      "*Br   40 :track2_phi : track2_phi/F                                          *\n",
      "*Entries :    33027 : Total  Size=     133028 bytes  File Size  =     122267 *\n",
      "*Baskets :        5 : Basket Size=      32000 bytes  Compression=   1.08     *\n",
      "*............................................................................*\n",
      "*Br   41 :track2_cha : track2_cha/F                                          *\n",
      "*Entries :    33027 : Total  Size=     133028 bytes  File Size  =      13966 *\n",
      "*Baskets :        5 : Basket Size=      32000 bytes  Compression=   9.49     *\n",
      "*............................................................................*\n",
      "*Br   42 :track2_d0 : track2_d0/F                                            *\n",
      "*Entries :    33027 : Total  Size=     133019 bytes  File Size  =     121798 *\n",
      "*Baskets :        5 : Basket Size=      32000 bytes  Compression=   1.09     *\n",
      "*............................................................................*\n",
      "*Br   43 :nOffVtx   : nOffVtx/F                                              *\n",
      "*Entries :    33027 : Total  Size=     133001 bytes  File Size  =      42818 *\n",
      "*Baskets :        5 : Basket Size=      32000 bytes  Compression=   3.09     *\n",
      "*............................................................................*\n",
      "*Br   44 :Kstar_Mass : Kstar_Mass/F                                          *\n",
      "*Entries :    33027 : Total  Size=     133028 bytes  File Size  =     113026 *\n",
      "*Baskets :        5 : Basket Size=      32000 bytes  Compression=   1.17     *\n",
      "*............................................................................*\n",
      "*Br   45 :B_Mass    : B_Mass/F                                               *\n",
      "*Entries :    33027 : Total  Size=     132992 bytes  File Size  =      63500 *\n",
      "*Baskets :        5 : Basket Size=      32000 bytes  Compression=   2.09     *\n",
      "*............................................................................*\n",
      "*Br   46 :B_Eta     : B_Eta/F                                                *\n",
      "*Entries :    33027 : Total  Size=     132983 bytes  File Size  =      74939 *\n",
      "*Baskets :        5 : Basket Size=      32000 bytes  Compression=   1.77     *\n",
      "*............................................................................*\n"
     ]
    }
   ],
   "source": [
    "data_input = \"data_ntuple.root\"\n",
    "MC_input = \"MC_ntuple.root\"\n",
    "\n",
    "data_file = ROOT.TFile.Open(data_input)\n",
    "MC_file = ROOT.TFile.Open(MC_input)\n",
    "# retrieve input trees\n",
    "\n",
    "signalTree     = MC_file.Get(\"ntupleTree\")\n",
    "backgroundTree = data_file.Get(\"ntupleTree\")\n",
    "\n",
    "signalTree.Print()\n",
    "# backgroundTree.Print()"
   ]
  },
  {
   "cell_type": "code",
   "execution_count": 4,
   "id": "designing-hacker",
   "metadata": {
    "scrolled": true
   },
   "outputs": [
    {
     "name": "stdout",
     "output_type": "stream",
     "text": [
      "DataSetInfo              : [dataset] : Added class \"Signal\"\n",
      "                         : Add Tree ntupleTree of type Signal with 33027 events\n",
      "DataSetInfo              : [dataset] : Added class \"Background\"\n",
      "                         : Add Tree ntupleTree of type Background with 943 events\n"
     ]
    }
   ],
   "source": [
    "loader = ROOT.TMVA.DataLoader(\"dataset\")\n",
    "\n",
    "### global event weights per tree (see below for setting event-wise weights)\n",
    "signalWeight     = 1.0\n",
    "backgroundWeight = 1.0\n",
    "   \n",
    "### You can add an arbitrary number of signal or background trees\n",
    "loader.AddSignalTree    ( signalTree,     signalWeight     )\n",
    "loader.AddBackgroundTree( backgroundTree, backgroundWeight )\n",
    "\n",
    "## Define input variables \n",
    "\n",
    "loader.AddVariable(\"Dimuon_CL\")\n",
    "loader.AddVariable(\"Dimuon_LS\")\n",
    "loader.AddVariable(\"Dimuon_CosAlpha\")\n",
    "loader.AddVariable(\"B_Eta\")\n",
    "loader.AddVariable(\"Bz_LS\")\n",
    "loader.AddVariable(\"Bz_CL\")\n",
    "loader.AddVariable(\"Bz_CosAlpha\")\n",
    "loader.AddVariable(\"Kstar_Mass\")\n",
    "loader.AddVariable(\"track1_pT\")\n",
    "loader.AddVariable(\"track1_eta\")\n",
    "loader.AddVariable(\"track1_d0\")\n",
    "loader.AddVariable(\"track2_pT\")\n",
    "loader.AddVariable(\"track2_eta\")\n",
    "loader.AddVariable(\"track2_d0\")\n",
    "loader.AddVariable(\"Muon1_pT\")\n",
    "loader.AddVariable(\"Muon1_eta\")\n",
    "loader.AddVariable(\"Muon2_pT\")\n",
    "loader.AddVariable(\"Muon2_eta\")"
   ]
  },
  {
   "cell_type": "markdown",
   "id": "angry-first",
   "metadata": {},
   "source": [
    "## Optimize the background data:\n",
    "Filter the events from the data that are from the signal peak region, so that we are sure to only feed pure background to the NN (avoid giving it few signal events in the data)"
   ]
  },
  {
   "cell_type": "code",
   "execution_count": 5,
   "id": "determined-experiment",
   "metadata": {
    "scrolled": true
   },
   "outputs": [
    {
     "name": "stdout",
     "output_type": "stream",
     "text": [
      " FCN=3912.65 FROM MIGRAD    STATUS=CONVERGED     123 CALLS         124 TOTAL\n",
      "                     EDM=1.52871e-09    STRATEGY= 1      ERROR MATRIX ACCURATE \n",
      "  EXT PARAMETER                                   STEP         FIRST   \n",
      "  NO.   NAME      VALUE            ERROR          SIZE      DERIVATIVE \n",
      "   1  Constant     4.57220e+03   3.83931e+01   8.19210e-01   7.95080e-07\n",
      "   2  Mean         5.27325e+00   2.68959e-04   7.72462e-06  -1.48288e-01\n",
      "   3  Sigma        4.31131e-02   2.58953e-04   2.35450e-05  -2.31270e-02\n"
     ]
    },
    {
     "name": "stderr",
     "output_type": "stream",
     "text": [
      "Info in <TCanvas::MakeDefCanvas>:  created default TCanvas with name c1\n"
     ]
    },
    {
     "data": {
      "image/png": "[encoded data removed]",
      "text/plain": [
       "<IPython.core.display.Image object>"
      ]
     },
     "metadata": {},
     "output_type": "display_data"
    }
   ],
   "source": [
    "histo_B_mass = ROOT.TH1F(\"Mass of B0\", \";GeV;\" , 100, 4.5, 6.2)\n",
    "\n",
    "for entry in signalTree:\n",
    "    histo_B_mass.Fill(entry.B_Mass)\n",
    "\n",
    "histo_B_mass.Fit(\"gaus\")\n",
    "canvas = ROOT.TCanvas(\"canvas\", \"Title\", 800, 600)\n",
    "histo_B_mass.Draw()\n",
    "canvas.Draw()\n",
    "\n"
   ]
  },
  {
   "cell_type": "markdown",
   "id": "missing-spouse",
   "metadata": {},
   "source": [
    "## Check the cut "
   ]
  },
  {
   "cell_type": "code",
   "execution_count": 6,
   "id": "binding-campus",
   "metadata": {
    "scrolled": true
   },
   "outputs": [
    {
     "name": "stdout",
     "output_type": "stream",
     "text": [
      "5.2301369\n",
      "5.3163631\n"
     ]
    },
    {
     "name": "stderr",
     "output_type": "stream",
     "text": [
      "Warning in <TFile::Append>: Replacing existing TH1: Mass of B0 (Potential memory leak).\n",
      "Warning in <TCanvas::Constructor>: Deleting canvas with same name: canvas\n"
     ]
    },
    {
     "data": {
      "image/png": "[encoded data removed]",
      "text/plain": [
       "<IPython.core.display.Image object>"
      ]
     },
     "metadata": {},
     "output_type": "display_data"
    }
   ],
   "source": [
    "sigma = 4.31131e-02\n",
    "mean = 5.27325e+00\n",
    "range1 = mean-sigma\n",
    "range2 = mean+sigma\n",
    "histo_B = ROOT.TH1F(\"Mass of B0\", \";GeV;\" , 100, 4.5, 6.2)\n",
    "\n",
    "for entry in signalTree:\n",
    "    if (entry.B_Mass < range2 and entry.B_Mass > range1):\n",
    "        histo_B.Fill(entry.B_Mass)\n",
    "\n",
    "canvas = ROOT.TCanvas(\"canvas\", \"Title\", 800, 600)\n",
    "histo_B.Draw()\n",
    "canvas.Draw()\n",
    "print (range1)\n",
    "print (range2)"
   ]
  },
  {
   "cell_type": "markdown",
   "id": "peripheral-granny",
   "metadata": {},
   "source": [
    "## Apply the filter "
   ]
  },
  {
   "cell_type": "code",
   "execution_count": 7,
   "id": "utility-privacy",
   "metadata": {},
   "outputs": [],
   "source": [
    "## Apply additional cuts on the signal and background samples (can be different)\n",
    "mycuts = ROOT.TCut(\"\")  \n",
    "mycutb = ROOT.TCut(\"(B_Mass > 5.2301369) && (B_Mass < 5.3163631)\")   ## cut events from the signal region\n",
    "\n",
    "# Set number of events to train\n",
    "loader.PrepareTrainingAndTestTree( mycuts, mycutb,\n",
    "                                  \"nTrain_Signal=32084:nTrain_Background=280:SplitMode=Random:\"\n",
    "                                   \"NormMode=NumEvents:!V\" )"
   ]
  },
  {
   "cell_type": "markdown",
   "id": "worst-column",
   "metadata": {},
   "source": [
    "## Booking"
   ]
  },
  {
   "cell_type": "code",
   "execution_count": 8,
   "id": "trying-intro",
   "metadata": {
    "scrolled": false
   },
   "outputs": [
    {
     "name": "stdout",
     "output_type": "stream",
     "text": [
      "Factory                  : Booking method: \u001b[1mBDT\u001b[0m\n",
      "                         : \n",
      "                         : Building event vectors for type 2 Signal\n",
      "                         : Dataset[dataset] :  create input formulas for tree ntupleTree\n",
      "                         : Building event vectors for type 2 Background\n",
      "                         : Dataset[dataset] :  create input formulas for tree ntupleTree\n",
      "DataSetFactory           : [dataset] : Number of events in input trees\n",
      "                         : Dataset[dataset] :     Signal     requirement: \"\"\n",
      "                         : Dataset[dataset] :     Signal          -- number of events passed: 33027  / sum of weights: 33027\n",
      "                         : Dataset[dataset] :     Signal          -- efficiency             : 1     \n",
      "                         : Dataset[dataset] :     Background requirement: \"(B_Mass > 5.2301369) && (B_Mass < 5.3163631)\"\n",
      "                         : Dataset[dataset] :     Background      -- number of events passed: 280    / sum of weights: 280  \n",
      "                         : Dataset[dataset] :     Background      -- efficiency             : 0.296925\n",
      "                         : \n",
      "                         : Dataset[dataset] :  you have opted for interpreting the requested number of training/testing events\n",
      "                         :  to be the number of events AFTER your preselection cuts\n",
      "                         : \n",
      "                         : Number of training and testing events\n",
      "                         : ---------------------------------------------------------------------------\n",
      "                         : Signal     -- training events            : 32084\n",
      "                         : Signal     -- testing events             : 943\n",
      "                         : Signal     -- training and testing events: 33027\n",
      "                         : Background -- training events            : 280\n",
      "                         : Background -- testing events             : 0\n",
      "                         : Background -- training and testing events: 280\n",
      "                         : Dataset[dataset] : Background -- due to the preselection a scaling factor has been applied to the numbers of requested events: 0.296925\n",
      "                         : \n",
      "DataSetInfo              : Correlation matrix (Signal):\n",
      "                         : -------------------------------------------------------------------------------------------------------------------------------------------------------------------------------------------------------\n",
      "                         :                  Dimuon_CL Dimuon_LS Dimuon_CosAlpha   B_Eta   Bz_LS   Bz_CL Bz_CosAlpha Kstar_Mass track1_pT track1_eta track1_d0 track2_pT track2_eta track2_d0 Muon1_pT Muon1_eta Muon2_pT Muon2_eta\n",
      "                         :       Dimuon_CL:    +1.000    -0.025          -0.012  -0.003  -0.024  +0.344      -0.020     +0.033    -0.009     -0.003    -0.012    -0.014     -0.007    -0.016   -0.026    -0.007   -0.023    -0.006\n",
      "                         :       Dimuon_LS:    -0.025    +1.000          +0.215  +0.002  +0.976  -0.062      +0.219     -0.260    +0.295     -0.008    +0.610    +0.316     -0.008    +0.666   +0.191    -0.009   +0.197    -0.007\n",
      "                         : Dimuon_CosAlpha:    -0.012    +0.215          +1.000  +0.010  +0.212  -0.081      +0.747     -0.379    +0.146     -0.015    +0.149    +0.160     -0.017    +0.172   +0.196    -0.018   +0.255    -0.015\n",
      "                         :           B_Eta:    -0.003    +0.002          +0.010  +1.000  +0.003  +0.002      +0.009     -0.011    -0.005     +0.490    -0.002    -0.005     +0.491    +0.003   +0.003    +0.479   +0.006    +0.471\n",
      "                         :           Bz_LS:    -0.024    +0.976          +0.212  +0.003  +1.000  -0.054      +0.218     -0.256    +0.274     -0.007    +0.675    +0.283     -0.008    +0.746   +0.224    -0.009   +0.224    -0.007\n",
      "                         :           Bz_CL:    +0.344    -0.062          -0.081  +0.002  -0.054  +1.000      -0.078     +0.012    +0.005     -0.004    -0.019    -0.001     -0.006    -0.032   -0.025    -0.008   -0.026    -0.008\n",
      "                         :     Bz_CosAlpha:    -0.020    +0.219          +0.747  +0.009  +0.218  -0.078      +1.000     -0.396    +0.153     -0.015    +0.155    +0.171     -0.013    +0.179   +0.205    -0.015   +0.261    -0.012\n",
      "                         :      Kstar_Mass:    +0.033    -0.260          -0.379  -0.011  -0.256  +0.012      -0.396     +1.000    -0.209     +0.012    -0.188    -0.188     +0.013    -0.216   -0.284    +0.014   -0.322    +0.012\n",
      "                         :       track1_pT:    -0.009    +0.295          +0.146  -0.005  +0.274  +0.005      +0.153     -0.209    +1.000     -0.011    +0.187    +0.607     -0.011    +0.118   +0.318    -0.012   +0.261    -0.012\n",
      "                         :      track1_eta:    -0.003    -0.008          -0.015  +0.490  -0.007  -0.004      -0.015     +0.012    -0.011     +1.000    -0.010    -0.010     +0.941    -0.005   -0.011    +0.932   -0.001    +0.926\n",
      "                         :       track1_d0:    -0.012    +0.610          +0.149  -0.002  +0.675  -0.019      +0.155     -0.188    +0.187     -0.010    +1.000    +0.102     -0.009    +0.503   +0.206    -0.010   +0.199    -0.008\n",
      "                         :       track2_pT:    -0.014    +0.316          +0.160  -0.005  +0.283  -0.001      +0.171     -0.188    +0.607     -0.010    +0.102    +1.000     -0.011    +0.125   +0.371    -0.012   +0.291    -0.011\n",
      "                         :      track2_eta:    -0.007    -0.008          -0.017  +0.491  -0.008  -0.006      -0.013     +0.013    -0.011     +0.941    -0.009    -0.011     +1.000    -0.006   -0.010    +0.940   -0.002    +0.932\n",
      "                         :       track2_d0:    -0.016    +0.666          +0.172  +0.003  +0.746  -0.032      +0.179     -0.216    +0.118     -0.005    +0.503    +0.125     -0.006    +1.000   +0.214    -0.007   +0.207    -0.005\n",
      "                         :        Muon1_pT:    -0.026    +0.191          +0.196  +0.003  +0.224  -0.025      +0.205     -0.284    +0.318     -0.011    +0.206    +0.371     -0.010    +0.214   +1.000    -0.012   +0.644    -0.010\n",
      "                         :       Muon1_eta:    -0.007    -0.009          -0.018  +0.479  -0.009  -0.008      -0.015     +0.014    -0.012     +0.932    -0.010    -0.012     +0.940    -0.007   -0.012    +1.000   -0.002    +0.955\n",
      "                         :        Muon2_pT:    -0.023    +0.197          +0.255  +0.006  +0.224  -0.026      +0.261     -0.322    +0.261     -0.001    +0.199    +0.291     -0.002    +0.207   +0.644    -0.002   +1.000    -0.000\n",
      "                         :       Muon2_eta:    -0.006    -0.007          -0.015  +0.471  -0.007  -0.008      -0.012     +0.012    -0.012     +0.926    -0.008    -0.011     +0.932    -0.005   -0.010    +0.955   -0.000    +1.000\n",
      "                         : -------------------------------------------------------------------------------------------------------------------------------------------------------------------------------------------------------\n",
      "DataSetInfo              : Correlation matrix (Background):\n",
      "                         : -------------------------------------------------------------------------------------------------------------------------------------------------------------------------------------------------------\n",
      "                         :                  Dimuon_CL Dimuon_LS Dimuon_CosAlpha   B_Eta   Bz_LS   Bz_CL Bz_CosAlpha Kstar_Mass track1_pT track1_eta track1_d0 track2_pT track2_eta track2_d0 Muon1_pT Muon1_eta Muon2_pT Muon2_eta\n",
      "                         :       Dimuon_CL:    +1.000    -0.024          +0.029  +0.047  -0.039  +0.465      -0.037     +0.126    -0.004     +0.028    +0.034    +0.055     -0.027    +0.015   -0.031    -0.001   -0.010    +0.006\n",
      "                         :       Dimuon_LS:    -0.024    +1.000          +0.221  -0.060  +0.944  -0.299      +0.273     -0.231    +0.382     +0.062    +0.459    +0.536     +0.010    +0.575   +0.538    +0.053   +0.429    +0.047\n",
      "                         : Dimuon_CosAlpha:    +0.029    +0.221          +1.000  +0.018  +0.223  -0.032      +0.484     -0.133    +0.103     +0.030    +0.096    +0.214     +0.016    +0.187   +0.240    +0.017   +0.191    +0.004\n",
      "                         :           B_Eta:    +0.047    -0.060          +0.018  +1.000  -0.086  +0.074      +0.010     -0.064    -0.131     +0.017    -0.139    -0.101     -0.008    -0.065   -0.064    +0.059   -0.026    +0.050\n",
      "                         :           Bz_LS:    -0.039    +0.944          +0.223  -0.086  +1.000  -0.290      +0.267     -0.232    +0.456     +0.064    +0.519    +0.631     +0.009    +0.752   +0.607    +0.044   +0.523    +0.037\n",
      "                         :           Bz_CL:    +0.465    -0.299          -0.032  +0.074  -0.290  +1.000      -0.124     +0.131    +0.031     -0.011    -0.117    -0.052     +0.017    -0.154   -0.230    -0.013   -0.131    -0.021\n",
      "                         :     Bz_CosAlpha:    -0.037    +0.273          +0.484  +0.010  +0.267  -0.124      +1.000     -0.139    +0.105     -0.016    +0.139    +0.186     -0.002    +0.209   +0.287    -0.010   +0.258    -0.011\n",
      "                         :      Kstar_Mass:    +0.126    -0.231          -0.133  -0.064  -0.232  +0.131      -0.139     +1.000    -0.111     +0.039    -0.128    -0.098     +0.041    -0.138   -0.340    +0.040   -0.246    +0.041\n",
      "                         :       track1_pT:    -0.004    +0.382          +0.103  -0.131  +0.456  +0.031      +0.105     -0.111    +1.000     -0.006    +0.375    +0.612     -0.050    +0.387   +0.278    -0.021   +0.240    -0.017\n",
      "                         :      track1_eta:    +0.028    +0.062          +0.030  +0.017  +0.064  -0.011      -0.016     +0.039    -0.006     +1.000    +0.024    +0.006     +0.775    +0.072   -0.027    +0.853   +0.013    +0.852\n",
      "                         :       track1_d0:    +0.034    +0.459          +0.096  -0.139  +0.519  -0.117      +0.139     -0.128    +0.375     +0.024    +1.000    +0.404     +0.007    +0.329   +0.248    +0.002   +0.318    +0.009\n",
      "                         :       track2_pT:    +0.055    +0.536          +0.214  -0.101  +0.631  -0.052      +0.186     -0.098    +0.612     +0.006    +0.404    +1.000     -0.024    +0.695   +0.574    -0.014   +0.440    -0.016\n",
      "                         :      track2_eta:    -0.027    +0.010          +0.016  -0.008  +0.009  +0.017      -0.002     +0.041    -0.050     +0.775    +0.007    -0.024     +1.000    +0.048   -0.052    +0.856   -0.011    +0.869\n",
      "                         :       track2_d0:    +0.015    +0.575          +0.187  -0.065  +0.752  -0.154      +0.209     -0.138    +0.387     +0.072    +0.329    +0.695     +0.048    +1.000   +0.623    +0.033   +0.566    +0.036\n",
      "                         :        Muon1_pT:    -0.031    +0.538          +0.240  -0.064  +0.607  -0.230      +0.287     -0.340    +0.278     -0.027    +0.248    +0.574     -0.052    +0.623   +1.000    -0.047   +0.789    -0.042\n",
      "                         :       Muon1_eta:    -0.001    +0.053          +0.017  +0.059  +0.044  -0.013      -0.010     +0.040    -0.021     +0.853    +0.002    -0.014     +0.856    +0.033   -0.047    +1.000   -0.006    +0.979\n",
      "                         :        Muon2_pT:    -0.010    +0.429          +0.191  -0.026  +0.523  -0.131      +0.258     -0.246    +0.240     +0.013    +0.318    +0.440     -0.011    +0.566   +0.789    -0.006   +1.000    +0.001\n",
      "                         :       Muon2_eta:    +0.006    +0.047          +0.004  +0.050  +0.037  -0.021      -0.011     +0.041    -0.017     +0.852    +0.009    -0.016     +0.869    +0.036   -0.042    +0.979   +0.001    +1.000\n",
      "                         : -------------------------------------------------------------------------------------------------------------------------------------------------------------------------------------------------------\n",
      "DataSetFactory           : [dataset] :  \n",
      "                         : \n",
      "Factory                  : Booking method: \u001b[1mMLP\u001b[0m\n",
      "                         : \n",
      "MLP                      : [dataset] : Create Transformation \"N\" with events from all classes.\n",
      "                         : \n",
      "                         : Transformation, Variable selection : \n",
      "                         : Input : variable 'Dimuon_CL' <---> Output : variable 'Dimuon_CL'\n",
      "                         : Input : variable 'Dimuon_LS' <---> Output : variable 'Dimuon_LS'\n",
      "                         : Input : variable 'Dimuon_CosAlpha' <---> Output : variable 'Dimuon_CosAlpha'\n",
      "                         : Input : variable 'B_Eta' <---> Output : variable 'B_Eta'\n",
      "                         : Input : variable 'Bz_LS' <---> Output : variable 'Bz_LS'\n",
      "                         : Input : variable 'Bz_CL' <---> Output : variable 'Bz_CL'\n",
      "                         : Input : variable 'Bz_CosAlpha' <---> Output : variable 'Bz_CosAlpha'\n",
      "                         : Input : variable 'Kstar_Mass' <---> Output : variable 'Kstar_Mass'\n",
      "                         : Input : variable 'track1_pT' <---> Output : variable 'track1_pT'\n",
      "                         : Input : variable 'track1_eta' <---> Output : variable 'track1_eta'\n",
      "                         : Input : variable 'track1_d0' <---> Output : variable 'track1_d0'\n",
      "                         : Input : variable 'track2_pT' <---> Output : variable 'track2_pT'\n",
      "                         : Input : variable 'track2_eta' <---> Output : variable 'track2_eta'\n",
      "                         : Input : variable 'track2_d0' <---> Output : variable 'track2_d0'\n",
      "                         : Input : variable 'Muon1_pT' <---> Output : variable 'Muon1_pT'\n",
      "                         : Input : variable 'Muon1_eta' <---> Output : variable 'Muon1_eta'\n",
      "                         : Input : variable 'Muon2_pT' <---> Output : variable 'Muon2_pT'\n",
      "                         : Input : variable 'Muon2_eta' <---> Output : variable 'Muon2_eta'\n",
      "MLP                      : Building Network. \n",
      "                         : Initializing weights\n"
     ]
    }
   ],
   "source": [
    "## Boosted Decision Trees\n",
    "factory.BookMethod(loader,ROOT.TMVA.Types.kBDT, \"BDT\",\n",
    "                   \"!V:NTrees=200:MinNodeSize=2.5%:MaxDepth=2:BoostType=AdaBoost:AdaBoostBeta=0.5:UseBaggedBoost:\"\n",
    "                   \"BaggedSampleFraction=0.5:SeparationType=GiniIndex:nCuts=20\" )\n",
    "\n",
    "## Multi-Layer Perceptron (Neural Network)\n",
    "factory.BookMethod(loader, ROOT.TMVA.Types.kMLP, \"MLP\",\n",
    "                   \"!H:!V:NeuronType=tanh:VarTransform=N:NCycles=100:HiddenLayers=N+5:TestRate=5:!UseRegulator\" );"
   ]
  },
  {
   "cell_type": "markdown",
   "id": "bound-wealth",
   "metadata": {},
   "source": [
    "## Training "
   ]
  },
  {
   "cell_type": "code",
   "execution_count": 9,
   "id": "accredited-teacher",
   "metadata": {},
   "outputs": [
    {
     "name": "stdout",
     "output_type": "stream",
     "text": [
      "Factory                  : \u001b[1mTrain all methods\u001b[0m\n",
      "Factory                  : [dataset] : Create Transformation \"I\" with events from all classes.\n",
      "                         : \n",
      "                         : Transformation, Variable selection : \n",
      "                         : Input : variable 'Dimuon_CL' <---> Output : variable 'Dimuon_CL'\n",
      "                         : Input : variable 'Dimuon_LS' <---> Output : variable 'Dimuon_LS'\n",
      "                         : Input : variable 'Dimuon_CosAlpha' <---> Output : variable 'Dimuon_CosAlpha'\n",
      "                         : Input : variable 'B_Eta' <---> Output : variable 'B_Eta'\n",
      "                         : Input : variable 'Bz_LS' <---> Output : variable 'Bz_LS'\n",
      "                         : Input : variable 'Bz_CL' <---> Output : variable 'Bz_CL'\n",
      "                         : Input : variable 'Bz_CosAlpha' <---> Output : variable 'Bz_CosAlpha'\n",
      "                         : Input : variable 'Kstar_Mass' <---> Output : variable 'Kstar_Mass'\n",
      "                         : Input : variable 'track1_pT' <---> Output : variable 'track1_pT'\n",
      "                         : Input : variable 'track1_eta' <---> Output : variable 'track1_eta'\n",
      "                         : Input : variable 'track1_d0' <---> Output : variable 'track1_d0'\n",
      "                         : Input : variable 'track2_pT' <---> Output : variable 'track2_pT'\n",
      "                         : Input : variable 'track2_eta' <---> Output : variable 'track2_eta'\n",
      "                         : Input : variable 'track2_d0' <---> Output : variable 'track2_d0'\n",
      "                         : Input : variable 'Muon1_pT' <---> Output : variable 'Muon1_pT'\n",
      "                         : Input : variable 'Muon1_eta' <---> Output : variable 'Muon1_eta'\n",
      "                         : Input : variable 'Muon2_pT' <---> Output : variable 'Muon2_pT'\n",
      "                         : Input : variable 'Muon2_eta' <---> Output : variable 'Muon2_eta'\n",
      "TFHandler_Factory        :        Variable               Mean               RMS       [        Min               Max ]\n",
      "                         : ----------------------------------------------------------------------------------------------\n",
      "                         :       Dimuon_CL:          0.52380          0.29504   [        0.0010005          0.99998 ]\n",
      "                         :       Dimuon_LS:           15.403           20.099   [        0.0091450           287.73 ]\n",
      "                         : Dimuon_CosAlpha:          0.84009          0.47439   [          -1.0000           1.0000 ]\n",
      "                         :           B_Eta:       -0.0034186           1.2618   [          -2.4299           2.4944 ]\n",
      "                         :           Bz_LS:           20.242           26.372   [         0.010634           307.50 ]\n",
      "                         :           Bz_CL:          0.49435          0.33219   [        0.0010029           1.0000 ]\n",
      "                         :     Bz_CosAlpha:          0.84013          0.47475   [          -1.0000           1.0000 ]\n",
      "                         :      Kstar_Mass:           1.1514          0.47113   [          0.63880           4.6850 ]\n",
      "                         :       track1_pT:           1.7732           1.4711   [          0.80029           27.672 ]\n",
      "                         :      track1_eta:       -0.0051526           1.3325   [          -2.3997           2.3999 ]\n",
      "                         :       track1_d0:           3.6181           6.2795   [       1.6795e-05           137.72 ]\n",
      "                         :       track2_pT:           3.6016           3.4456   [          0.80566           70.141 ]\n",
      "                         :      track2_eta:       -0.0048485           1.3218   [          -2.3995           2.3999 ]\n",
      "                         :       track2_d0:           5.3602           8.5091   [       5.1065e-05           136.93 ]\n",
      "                         :        Muon1_pT:           7.4387           5.3644   [          0.76485           132.51 ]\n",
      "                         :       Muon1_eta:       -0.0032283           1.3477   [          -2.3995           2.3995 ]\n",
      "                         :        Muon2_pT:           4.2815           2.4677   [          0.64977           69.726 ]\n",
      "                         :       Muon2_eta:       -0.0048219           1.4086   [          -2.3995           2.3992 ]\n",
      "                         : ----------------------------------------------------------------------------------------------\n",
      "                         : Ranking input variables (method unspecific)...\n",
      "IdTransformation         : Ranking result (top variable is best ranked)\n",
      "                         : ----------------------------------------\n",
      "                         : Rank : Variable        : Separation\n",
      "                         : ----------------------------------------\n",
      "                         :    1 : B_Eta           : 8.578e-01\n",
      "                         :    2 : Muon2_pT        : 6.932e-01\n",
      "                         :    3 : Muon1_pT        : 5.421e-01\n",
      "                         :    4 : Bz_CosAlpha     : 4.503e-01\n",
      "                         :    5 : Dimuon_CosAlpha : 3.627e-01\n",
      "                         :    6 : Muon2_eta       : 3.547e-01\n",
      "                         :    7 : Kstar_Mass      : 3.437e-01\n",
      "                         :    8 : Dimuon_LS       : 2.727e-01\n",
      "                         :    9 : Muon1_eta       : 2.522e-01\n",
      "                         :   10 : Bz_LS           : 2.486e-01\n",
      "                         :   11 : track2_d0       : 2.194e-01\n",
      "                         :   12 : track2_pT       : 1.934e-01\n",
      "                         :   13 : track1_d0       : 1.924e-01\n",
      "                         :   14 : track1_pT       : 1.702e-01\n",
      "                         :   15 : track1_eta      : 6.321e-02\n",
      "                         :   16 : track2_eta      : 5.395e-02\n",
      "                         :   17 : Dimuon_CL       : 5.174e-02\n",
      "                         :   18 : Bz_CL           : 4.460e-02\n",
      "                         : ----------------------------------------\n",
      "Factory                  : Train method: BDT for Classification\n",
      "                         : \n",
      "BDT                      : #events: (reweighted) sig: 16182 bkg: 16182\n",
      "                         : #events: (unweighted) sig: 32084 bkg: 280\n",
      "                         : Training 200 Decision Trees ... patience please\n",
      "                         : Elapsed time for training with 32364 events: 2.37 sec         \n",
      "BDT                      : [dataset] : Evaluation of BDT on training sample (32364 events)\n",
      "                         : Elapsed time for evaluation of 32364 events: 0.108 sec       \n",
      "                         : Creating xml weight file: \u001b[0;36mdataset/weights/TMVA_Classification_BDT.weights.xml\u001b[0m\n",
      "                         : Creating standalone class: \u001b[0;36mdataset/weights/TMVA_Classification_BDT.class.C\u001b[0m\n",
      "                         : ClassificationOutput.root:/dataset/Method_BDT/BDT\n",
      "Factory                  : Training finished\n",
      "                         : \n",
      "Factory                  : Train method: MLP for Classification\n",
      "                         : \n",
      "TFHandler_MLP            :        Variable               Mean               RMS       [        Min               Max ]\n",
      "                         : ----------------------------------------------------------------------------------------------\n",
      "                         :       Dimuon_CL:         0.046666          0.59068   [          -1.0000           1.0000 ]\n",
      "                         :       Dimuon_LS:         -0.89300          0.13971   [          -1.0000           1.0000 ]\n",
      "                         : Dimuon_CosAlpha:          0.84009          0.47439   [          -1.0000           1.0000 ]\n",
      "                         :           B_Eta:        -0.014483          0.51249   [          -1.0000           1.0000 ]\n",
      "                         :           Bz_LS:         -0.86841          0.17153   [          -1.0000           1.0000 ]\n",
      "                         :           Bz_CL:        -0.012307          0.66505   [          -1.0000           1.0000 ]\n",
      "                         :     Bz_CosAlpha:          0.84013          0.47475   [          -1.0000           1.0000 ]\n",
      "                         :      Kstar_Mass:         -0.74663          0.23288   [          -1.0000           1.0000 ]\n",
      "                         :       track1_pT:         -0.92759          0.10949   [          -1.0000           1.0000 ]\n",
      "                         :      track1_eta:       -0.0021853          0.55527   [          -1.0000           1.0000 ]\n",
      "                         :       track1_d0:         -0.94746         0.091191   [          -1.0000           1.0000 ]\n",
      "                         :       track2_pT:         -0.91935         0.099390   [          -1.0000           1.0000 ]\n",
      "                         :      track2_eta:       -0.0020968          0.55082   [          -1.0000           1.0000 ]\n",
      "                         :       track2_d0:         -0.92171          0.12428   [          -1.0000           1.0000 ]\n",
      "                         :        Muon1_pT:         -0.89869         0.081435   [          -1.0000           1.0000 ]\n",
      "                         :       Muon1_eta:       -0.0013457          0.56168   [          -1.0000           1.0000 ]\n",
      "                         :        Muon2_pT:         -0.89485         0.071448   [          -1.0000           1.0000 ]\n",
      "                         :       Muon2_eta:       -0.0019438          0.58710   [          -1.0000           1.0000 ]\n",
      "                         : ----------------------------------------------------------------------------------------------\n",
      "                         : Training Network\n",
      "                         : \n",
      "                         : Elapsed time for training with 32364 events: 31.3 sec         \n",
      "MLP                      : [dataset] : Evaluation of MLP on training sample (32364 events)\n",
      "                         : Elapsed time for evaluation of 32364 events: 0.0983 sec       \n",
      "                         : Creating xml weight file: \u001b[0;36mdataset/weights/TMVA_Classification_MLP.weights.xml\u001b[0m\n",
      "                         : Creating standalone class: \u001b[0;36mdataset/weights/TMVA_Classification_MLP.class.C\u001b[0m\n",
      "                         : Write special histos to file: ClassificationOutput.root:/dataset/Method_MLP/MLP\n",
      "Factory                  : Training finished\n",
      "                         : \n",
      "                         : Ranking input variables (method specific)...\n",
      "BDT                      : Ranking result (top variable is best ranked)\n",
      "                         : -------------------------------------------------\n",
      "                         : Rank : Variable        : Variable Importance\n",
      "                         : -------------------------------------------------\n",
      "                         :    1 : B_Eta           : 2.290e-01\n",
      "                         :    2 : Muon2_pT        : 8.981e-02\n",
      "                         :    3 : Dimuon_CL       : 7.148e-02\n",
      "                         :    4 : Kstar_Mass      : 6.453e-02\n",
      "                         :    5 : Muon1_pT        : 6.279e-02\n",
      "                         :    6 : track1_eta      : 6.052e-02\n",
      "                         :    7 : Bz_CL           : 5.752e-02\n",
      "                         :    8 : track2_eta      : 5.703e-02\n",
      "                         :    9 : Bz_CosAlpha     : 5.155e-02\n",
      "                         :   10 : Muon1_eta       : 5.147e-02\n",
      "                         :   11 : Dimuon_CosAlpha : 4.474e-02\n",
      "                         :   12 : Muon2_eta       : 4.357e-02\n",
      "                         :   13 : track2_d0       : 3.199e-02\n",
      "                         :   14 : Bz_LS           : 1.978e-02\n",
      "                         :   15 : Dimuon_LS       : 1.974e-02\n",
      "                         :   16 : track1_pT       : 1.772e-02\n",
      "                         :   17 : track1_d0       : 1.576e-02\n",
      "                         :   18 : track2_pT       : 1.098e-02\n",
      "                         : -------------------------------------------------\n",
      "MLP                      : Ranking result (top variable is best ranked)\n",
      "                         : ----------------------------------------\n",
      "                         : Rank : Variable        : Importance\n",
      "                         : ----------------------------------------\n",
      "                         :    1 : Muon1_pT        : 4.823e+01\n",
      "                         :    2 : Muon2_pT        : 4.308e+01\n",
      "                         :    3 : track2_d0       : 3.971e+01\n",
      "                         :    4 : track1_d0       : 3.560e+01\n",
      "                         :    5 : Bz_LS           : 3.174e+01\n",
      "                         :    6 : track2_pT       : 2.874e+01\n",
      "                         :    7 : Muon2_eta       : 2.789e+01\n",
      "                         :    8 : track1_pT       : 2.568e+01\n",
      "                         :    9 : Dimuon_LS       : 2.387e+01\n",
      "                         :   10 : Dimuon_CosAlpha : 2.011e+01\n",
      "                         :   11 : Bz_CosAlpha     : 1.620e+01\n",
      "                         :   12 : Muon1_eta       : 1.489e+01\n",
      "                         :   13 : track2_eta      : 1.253e+01\n",
      "                         :   14 : Bz_CL           : 1.248e+01\n",
      "                         :   15 : Dimuon_CL       : 1.202e+01\n",
      "                         :   16 : track1_eta      : 1.089e+01\n",
      "                         :   17 : Kstar_Mass      : 9.607e+00\n",
      "                         :   18 : B_Eta           : 7.977e+00\n",
      "                         : ----------------------------------------\n",
      "Factory                  : === Destroy and recreate all methods via weight files for testing ===\n",
      "                         : \n",
      "                         : Reading weight file: \u001b[0;36mdataset/weights/TMVA_Classification_BDT.weights.xml\u001b[0m\n",
      "                         : Reading weight file: \u001b[0;36mdataset/weights/TMVA_Classification_MLP.weights.xml\u001b[0m\n",
      "MLP                      : Building Network. \n",
      "                         : Initializing weights\n"
     ]
    }
   ],
   "source": [
    "factory.TrainAllMethods();"
   ]
  },
  {
   "cell_type": "markdown",
   "id": "permanent-football",
   "metadata": {},
   "source": [
    "## Testing "
   ]
  },
  {
   "cell_type": "code",
   "execution_count": 10,
   "id": "lonely-spanish",
   "metadata": {},
   "outputs": [
    {
     "name": "stdout",
     "output_type": "stream",
     "text": [
      "Factory                  : \u001b[1mTest all methods\u001b[0m\n",
      "Factory                  : Test method: BDT for Classification performance\n",
      "                         : \n",
      "BDT                      : [dataset] : Evaluation of BDT on testing sample (943 events)\n",
      "                         : Elapsed time for evaluation of 943 events: 0.00327 sec       \n",
      "Factory                  : Test method: MLP for Classification performance\n",
      "                         : \n",
      "MLP                      : [dataset] : Evaluation of MLP on testing sample (943 events)\n",
      "                         : Elapsed time for evaluation of 943 events: 0.00338 sec       \n"
     ]
    }
   ],
   "source": [
    "factory.TestAllMethods();   "
   ]
  },
  {
   "cell_type": "markdown",
   "id": "naval-malpractice",
   "metadata": {},
   "source": [
    "## Evaluation "
   ]
  },
  {
   "cell_type": "code",
   "execution_count": 11,
   "id": "radical-conspiracy",
   "metadata": {
    "scrolled": true
   },
   "outputs": [
    {
     "ename": "runtime_error",
     "evalue": "void TMVA::Factory::EvaluateAllMethods() =>\n    runtime_error: FATAL error",
     "output_type": "error",
     "traceback": [
      "\u001b[0;31m---------------------------------------------------------------------------\u001b[0m",
      "\u001b[0;31mruntime_error\u001b[0m                             Traceback (most recent call last)",
      "\u001b[0;32m<ipython-input-11-5dda42e8acf4>\u001b[0m in \u001b[0;36m<module>\u001b[0;34m\u001b[0m\n\u001b[0;32m----> 1\u001b[0;31m \u001b[0mfactory\u001b[0m\u001b[0;34m.\u001b[0m\u001b[0mEvaluateAllMethods\u001b[0m\u001b[0;34m(\u001b[0m\u001b[0;34m)\u001b[0m\u001b[0;34m;\u001b[0m\u001b[0;34m\u001b[0m\u001b[0;34m\u001b[0m\u001b[0m\n\u001b[0m",
      "\u001b[0;31mruntime_error\u001b[0m: void TMVA::Factory::EvaluateAllMethods() =>\n    runtime_error: FATAL error"
     ]
    },
    {
     "name": "stdout",
     "output_type": "stream",
     "text": [
      "Factory                  : \u001b[1mEvaluate all methods\u001b[0m\n",
      "Factory                  : Evaluate classifier: BDT\n",
      "                         : \n",
      "BDT                      : [dataset] : Loop over test events and fill histograms with classifier response...\n",
      "                         : \n",
      "\u001b[37;41;1m<FATAL>                         : Number of entries <= 0 (0 in histogram: MVA_BDT_B)\u001b[0m\n",
      "***> abort program execution\n"
     ]
    },
    {
     "name": "stderr",
     "output_type": "stream",
     "text": [
      "Error in <TMVA::Tools::Mean>: sum of weights <= 0 ?! that's a bit too much of negative event weights :) \n"
     ]
    }
   ],
   "source": [
    "factory.EvaluateAllMethods();"
   ]
  },
  {
   "cell_type": "markdown",
   "id": "lonely-officer",
   "metadata": {},
   "source": [
    "## ROC Curve"
   ]
  },
  {
   "cell_type": "code",
   "execution_count": null,
   "id": "capable-eclipse",
   "metadata": {
    "scrolled": true
   },
   "outputs": [],
   "source": [
    "%jsroot on\n",
    "c1 = factory.GetROCCurve(loader);\n",
    "c1.Draw();\n",
    "c1.SaveAs(\"figures/ROC_Curve.pdf\")"
   ]
  },
  {
   "cell_type": "code",
   "execution_count": null,
   "id": "humanitarian-crystal",
   "metadata": {},
   "outputs": [],
   "source": [
    "outputFile.Close()"
   ]
  },
  {
   "cell_type": "markdown",
   "id": "small-merchant",
   "metadata": {},
   "source": [
    "## Draw Histograms of classification "
   ]
  },
  {
   "cell_type": "markdown",
   "id": "dependent-casino",
   "metadata": {},
   "source": [
    "### BDT "
   ]
  },
  {
   "cell_type": "code",
   "execution_count": null,
   "id": "illegal-gross",
   "metadata": {},
   "outputs": [],
   "source": [
    "f = ROOT.TFile.Open(\"ClassificationOutput.root\", \"READ\")\n",
    "f.ls()\n",
    "\n",
    "directory = f.Get(\"dataset/Method_BDT/BDT\")\n",
    "directory.ls()"
   ]
  },
  {
   "cell_type": "code",
   "execution_count": null,
   "id": "interstate-breath",
   "metadata": {},
   "outputs": [],
   "source": [
    "# Draw histogram for output variables: classification of events\n",
    "c = ROOT.TCanvas(\"c\", \"Title\", 800, 600)\n",
    "histo_bkg = f.Get(\"dataset/Method_BDT/BDT/MVA_BDT_B\")\n",
    "histo_bkg.SetLineColor(3)\n",
    "histo_bkg.Draw(\"\")\n",
    "histo_sig = f.Get(\"dataset/Method_BDT/BDT/MVA_BDT_S\")\n",
    "histo_sig.Draw(\"same\")\n",
    "histo_bkg.SetTitle(\"BDT Classification of events\")\n",
    "histo_bkg.SetName(\"Event Classification\")\n",
    "histo_sig.SetName(\"Event Classification\")\n",
    "histo_bkg.Write(\"Event Classification\",ROOT.TObject.kWriteDelete);\n",
    "legend = ROOT.TLegend(0.05,0.80,0.2,0.93)\n",
    "legend.AddEntry(histo_bkg,\"Background\", \"l\")\n",
    "legend.AddEntry(histo_sig,\"Signal\", \"l\")\n",
    "legend.Draw()\n",
    "c.Draw()\n",
    "c.SaveAs(\"figures/BDT/MVA_BDT.pdf\")\n",
    "\n",
    "# Background \n",
    "c1 = ROOT.TCanvas(\"c1\", \"Title\", 800, 600)\n",
    "histo_bkg.Draw()\n",
    "c1.Draw()\n",
    "c1.SaveAs(\"figures/BDT/MVA_BDT_B.pdf\")\n",
    "\n",
    "# Signal \n",
    "c2 = ROOT.TCanvas(\"c2\", \"Title\", 800, 600)\n",
    "histo_sig.Draw()\n",
    "c2.Draw()\n",
    "c2.SaveAs(\"figures/BDT/MVA_BDT_S.pdf\")"
   ]
  },
  {
   "cell_type": "code",
   "execution_count": null,
   "id": "caring-cache",
   "metadata": {
    "scrolled": true
   },
   "outputs": [],
   "source": [
    "c3 = ROOT.TCanvas(\"c3\", \"Title\", 800, 600)\n",
    "histo_eff_B = f.Get(\"dataset/Method_BDT/BDT/MVA_BDT_effB\")\n",
    "histo_eff_S = f.Get(\"dataset/Method_BDT/BDT/MVA_BDT_effS\")\n",
    "# histoKstar_B.Draw()\n",
    "histo_eff_B.Draw(\"\")\n",
    "c3.Draw()\n",
    "c3.SaveAs(\"figures/BDT/efficiencyS.pdf\")"
   ]
  },
  {
   "cell_type": "code",
   "execution_count": null,
   "id": "atomic-current",
   "metadata": {
    "scrolled": true
   },
   "outputs": [],
   "source": [
    "c4 = ROOT.TCanvas(\"c4\", \"Title\", 800, 600)\n",
    "histo_eff_B = f.Get(\"dataset/Method_BDT/BDT/MVA_BDT_effB\")\n",
    "histo_eff_S = f.Get(\"dataset/Method_BDT/BDT/MVA_BDT_effS\")\n",
    "# histoKstar_B.Draw()\n",
    "histo_eff_B.Draw(\"\")\n",
    "c3.Draw()\n",
    "c3.SaveAs(\"figures/BDT/efficiencyS.pdf\")"
   ]
  },
  {
   "cell_type": "markdown",
   "id": "biological-jewelry",
   "metadata": {},
   "source": [
    "### MLP"
   ]
  },
  {
   "cell_type": "code",
   "execution_count": null,
   "id": "jewish-marketplace",
   "metadata": {},
   "outputs": [],
   "source": [
    "f2 = ROOT.TFile.Open(\"ClassificationOutput.root\", \"READ\")\n",
    "f2.ls()\n",
    "\n",
    "directory = f2.Get(\"dataset/Method_MLP/MLP\")\n",
    "directory.ls()"
   ]
  },
  {
   "cell_type": "code",
   "execution_count": null,
   "id": "bound-alcohol",
   "metadata": {},
   "outputs": [],
   "source": [
    "# Draw histogram for output variables: classification of events\n",
    "c4 = ROOT.TCanvas(\"c4\", \"Title\", 800, 600)\n",
    "h_bkg = f2.Get(\"dataset/Method_MLP/MLP/MVA_MLP_B\")\n",
    "h_bkg.SetLineColor(3)\n",
    "h_bkg.Draw(\"\")\n",
    "h_sig = f2.Get(\"dataset/Method_MLP/MLP/MVA_MLP_S\")\n",
    "h_sig.Draw(\"same\")\n",
    "h_bkg.SetTitle(\"MLP Classification of events\")\n",
    "h_bkg.SetName(\"Event Classification\")\n",
    "h_sig.SetName(\"Event Classification\")\n",
    "h_bkg.Write(\"Event Classification\", ROOT.TObject.kWriteDelete);\n",
    "legend = ROOT.TLegend(0.05,0.80,0.2,0.93)\n",
    "legend.AddEntry(h_bkg,\"Background\", \"l\")\n",
    "legend.AddEntry(h_sig,\"Signal\", \"l\")\n",
    "legend.Draw()\n",
    "c4.Draw()\n",
    "c4.SaveAs(\"figures/MLP/MVA_MLP.pdf\")\n",
    "\n",
    "# Background \n",
    "c5 = ROOT.TCanvas(\"c5\", \"Title\", 800, 600)\n",
    "h_bkg.Draw()\n",
    "c5.Draw()\n",
    "c5.SaveAs(\"figures/MLP/MVA_MLP_B.pdf\")\n",
    "\n",
    "# Signal \n",
    "c6 = ROOT.TCanvas(\"c6\", \"Title\", 800, 600)\n",
    "h_sig.Draw()\n",
    "c6.Draw()\n",
    "c6.SaveAs(\"figures/MLP/MVA_MLP_S.pdf\")"
   ]
  },
  {
   "cell_type": "code",
   "execution_count": null,
   "id": "hired-arrow",
   "metadata": {},
   "outputs": [],
   "source": []
  }
 ],
 "metadata": {
  "kernelspec": {
   "display_name": "Python 3",
   "language": "python",
   "name": "python3"
  },
  "language_info": {
   "codemirror_mode": {
    "name": "ipython",
    "version": 3
   },
   "file_extension": ".py",
   "mimetype": "text/x-python",
   "name": "python",
   "nbconvert_exporter": "python",
   "pygments_lexer": "ipython3",
   "version": "3.8.5"
  }
 },
 "nbformat": 4,
 "nbformat_minor": 5
}
